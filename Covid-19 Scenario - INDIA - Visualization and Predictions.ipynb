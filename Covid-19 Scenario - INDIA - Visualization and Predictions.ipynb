{
 "cells": [
  {
   "cell_type": "code",
   "execution_count": null,
   "metadata": {},
   "outputs": [],
   "source": [
    "import os\n",
    "import pandas as pd\n",
    "import numpy as np\n",
    "import matplotlib.pyplot as plt\n",
    "import plotly.graph_objects as go\n",
    "import plotly.express as px\n",
    "import seaborn as sns\n",
    "import folium\n",
    "import requests\n",
    "from datetime import timedelta\n",
    "from plotly.subplots import make_subplots\n",
    "from sklearn.metrics import mean_squared_error,r2_score\n",
    "from sklearn.svm import SVR\n",
    "from statsmodels.tsa.api import Holt,SimpleExpSmoothing,ExponentialSmoothing\n",
    "from sklearn.linear_model import LinearRegression,Ridge,Lasso\n",
    "from sklearn.preprocessing import PolynomialFeatures\n",
    "from pmdarima import auto_arima\n",
    "from statsmodels.tsa.arima_model import ARIMA\n",
    "from IPython.core.display import HTML\n",
    "import requests\n",
    "from fbprophet import Prophet"
   ]
  },
  {
   "cell_type": "code",
   "execution_count": null,
   "metadata": {},
   "outputs": [],
   "source": [
    "df_covid19 = pd.read_csv(\"https://raw.githubusercontent.com/CSSEGISandData/COVID-19/web-data/data/cases_country.csv\")"
   ]
  },
  {
   "cell_type": "code",
   "execution_count": null,
   "metadata": {},
   "outputs": [],
   "source": [
    "df_covid19 = df_covid19.drop([\"People_Tested\",\"People_Hospitalized\",\"UID\",\"ISO3\",\"Mortality_Rate\"],axis =1)\n",
    "df_covid19.head(2)"
   ]
  },
  {
   "cell_type": "code",
   "execution_count": null,
   "metadata": {},
   "outputs": [],
   "source": [
    "india_data_json = requests.get('https://api.rootnet.in/covid19-in/unofficial/covid19india.org/statewise').json()\n",
    "df_india = pd.io.json.json_normalize(india_data_json['data']['statewise'])\n",
    "df_india = df_india.set_index(\"state\")"
   ]
  },
  {
   "cell_type": "code",
   "execution_count": null,
   "metadata": {},
   "outputs": [],
   "source": [
    "total = df_india.sum()\n",
    "total.name = \"Total\"\n",
    "df_t = pd.DataFrame(total,dtype=float).transpose()\n",
    "df_t[\"Mortality Rate (per 100)\"] = np.round(100*df_t[\"deaths\"]/df_t[\"confirmed\"],2)\n",
    "df_t.style.background_gradient(cmap='Oranges',axis=1)"
   ]
  },
  {
   "cell_type": "code",
   "execution_count": null,
   "metadata": {
    "scrolled": true
   },
   "outputs": [],
   "source": [
    "df_india[\"Mortality Rate (per 100)\"]= np.round(np.nan_to_num(100*df_india[\"deaths\"]/df_india[\"confirmed\"]),2)\n",
    "df_india.style.background_gradient(cmap='Blues',subset=[\"confirmed\"])\\\n",
    "                        .background_gradient(cmap='Reds',subset=[\"deaths\"])\\\n",
    "                        .background_gradient(cmap='Greens',subset=[\"recovered\"])\\\n",
    "                        .background_gradient(cmap='Purples',subset=[\"active\"])\\\n",
    "                        .background_gradient(cmap='YlOrBr',subset=[\"Mortality Rate (per 100)\"])\\\n",
    "                        .format(\"{:.2f}\",subset=[\"Mortality Rate (per 100)\"])"
   ]
  },
  {
   "cell_type": "markdown",
   "metadata": {},
   "source": [
    "##### States with Reported Deaths"
   ]
  },
  {
   "cell_type": "code",
   "execution_count": null,
   "metadata": {
    "scrolled": true
   },
   "outputs": [],
   "source": [
    "df_india[df_india['deaths'] > 0].style.background_gradient(cmap='Blues',subset=[\"confirmed\"])\\\n",
    "                        .background_gradient(cmap='Reds',subset=[\"deaths\"])\\\n",
    "                        .background_gradient(cmap='Greens',subset=[\"recovered\"])\\\n",
    "                        .background_gradient(cmap='Purples',subset=[\"active\"])\\\n",
    "                        .background_gradient(cmap='YlOrBr',subset=[\"Mortality Rate (per 100)\"])\\\n",
    "                        .format(\"{:.2f}\",subset=[\"Mortality Rate (per 100)\"])"
   ]
  },
  {
   "cell_type": "markdown",
   "metadata": {},
   "source": [
    "###### 10 Most effected States"
   ]
  },
  {
   "cell_type": "code",
   "execution_count": null,
   "metadata": {},
   "outputs": [],
   "source": [
    "f = plt.figure(figsize=(10,5))\n",
    "f.add_subplot(111)\n",
    "\n",
    "plt.axes(axisbelow=True)\n",
    "plt.barh(df_india.sort_values('confirmed')[\"confirmed\"].index[-10:],df_india.sort_values('confirmed')[\"confirmed\"].values[-10:],color=\"darkcyan\")\n",
    "plt.tick_params(size=5,labelsize = 13)\n",
    "plt.xlabel(\"Confirmed Cases\",fontsize=18)\n",
    "plt.title(\"Top 10 States: India (Confirmed Cases)\",fontsize=20)\n",
    "plt.grid(alpha=0.3)\n",
    "# plt.savefig(out+'Top 10 States_India (Confirmed Cases).png')"
   ]
  },
  {
   "cell_type": "code",
   "execution_count": null,
   "metadata": {},
   "outputs": [],
   "source": [
    "f = plt.figure(figsize=(10,5))\n",
    "f.add_subplot(111)\n",
    "\n",
    "plt.axes(axisbelow=True)\n",
    "plt.barh(df_india.sort_values('deaths')[\"deaths\"].index[-10:],df_india.sort_values('deaths')[\"deaths\"].values[-10:],color=\"crimson\")\n",
    "plt.tick_params(size=5,labelsize = 13)\n",
    "plt.xlabel(\"Deaths\",fontsize=18)\n",
    "plt.title(\"Top 10 States: India (Deaths Cases)\",fontsize=20)\n",
    "plt.grid(alpha=0.3)\n",
    "# plt.savefig(out+'Top 10 States_India (Deaths Cases).png')"
   ]
  },
  {
   "cell_type": "code",
   "execution_count": null,
   "metadata": {},
   "outputs": [],
   "source": [
    "# Adding Location data (Latitude,Longitude)\n",
    "locations = {\n",
    "    \"Kerala\" : [10.8505,76.2711],\n",
    "    \"Maharashtra\" : [19.7515,75.7139],\n",
    "    \"Karnataka\": [15.3173,75.7139],\n",
    "    \"Telangana\": [18.1124,79.0193],\n",
    "    \"Uttar Pradesh\": [26.8467,80.9462],\n",
    "    \"Rajasthan\": [27.0238,74.2179],\n",
    "    \"Gujarat\":[22.2587,71.1924],\n",
    "    \"Delhi\" : [28.7041,77.1025],\n",
    "    \"Punjab\":[31.1471,75.3412],\n",
    "    \"Tamil Nadu\": [11.1271,78.6569],\n",
    "    \"Haryana\": [29.0588,76.0856],\n",
    "    \"Madhya Pradesh\":[22.9734,78.6569],\n",
    "    \"Jammu and Kashmir\":[33.7782,76.5762],\n",
    "    \"Ladakh\": [34.1526,77.5770],\n",
    "    \"Andhra Pradesh\":[15.9129,79.7400],\n",
    "    \"West Bengal\": [22.9868,87.8550],\n",
    "    \"Bihar\": [25.0961,85.3131],\n",
    "    \"Chhattisgarh\":[21.2787,81.8661],\n",
    "    \"Chandigarh\":[30.7333,76.7794],\n",
    "    \"Uttarakhand\":[30.0668,79.0193],\n",
    "    \"Himachal Pradesh\":[31.1048,77.1734],\n",
    "    \"Goa\": [15.2993,74.1240],\n",
    "    \"Odisha\":[20.9517,85.0985],\n",
    "    \"Andaman and Nicobar Islands\": [11.7401,92.6586],\n",
    "    \"Puducherry\":[11.9416,79.8083],\n",
    "    \"Manipur\":[24.6637,93.9063],\n",
    "    \"Mizoram\":[23.1645,92.9376],\n",
    "    \"Assam\":[26.2006,92.9376],\n",
    "    \"Meghalaya\":[25.4670,91.3662],\n",
    "    \"Tripura\":[23.9408,91.9882],\n",
    "    \"Arunachal Pradesh\":[28.2180,94.7278],\n",
    "    \"Jharkhand\" : [23.6102,85.2799],\n",
    "    \"Nagaland\": [26.1584,94.5624],\n",
    "    \"Sikkim\": [27.5330,88.5122],\n",
    "    \"Dadra and Nagar Haveli\":[20.1809,73.0169],\n",
    "    \"Lakshadweep\":[10.5667,72.6417],\n",
    "    \"Daman and Diu\":[20.4283,72.8397]    \n",
    "}\n",
    "df_india[\"Lat\"] = \"\"\n",
    "df_india[\"Long\"] = \"\"\n",
    "\n",
    "for index in df_india.index :\n",
    "    if index in locations:\n",
    "        df_india.loc[df_india.index == index,\"Lat\"] = locations[index][0]\n",
    "        df_india.loc[df_india.index == index,\"Long\"] = locations[index][1]\n",
    "    else:\n",
    "        df_india.drop([index],inplace=True)"
   ]
  },
  {
   "cell_type": "code",
   "execution_count": null,
   "metadata": {},
   "outputs": [],
   "source": [
    "india = folium.Map(location=[23,80], zoom_start=4,max_zoom=6,min_zoom=4,height=500,width=\"80%\")\n",
    "for i in range(0,len(df_india[df_india['confirmed']>0].index)):\n",
    "    folium.Circle(\n",
    "        location=[df_india.iloc[i]['Lat'], df_india.iloc[i]['Long']],\n",
    "        tooltip = \"<h5 style='text-align:center;font-weight: bold'>\"+df_india.iloc[i].name+\"</h5>\"+\n",
    "                    \"<hr style='margin:10px;'>\"+\n",
    "                    \"<ul style='color: #444;list-style-type:circle;align-item:left;padding-left:20px;padding-right:20px'>\"+\n",
    "        \"<li>Confirmed: \"+str(df_india.iloc[i]['confirmed'])+\"</li>\"+\n",
    "        \"<li>Active:   \"+str(df_india.iloc[i]['active'])+\"</li>\"+\n",
    "        \"<li>Recovered:   \"+str(df_india.iloc[i]['recovered'])+\"</li>\"+\n",
    "        \"<li>Deaths:   \"+str(df_india.iloc[i]['deaths'])+\"</li>\"+\n",
    "        \n",
    "        \"<li>Mortality Rate:   \"+str(np.round(df_india.iloc[i]['Mortality Rate (per 100)'],2))+\"</li>\"+\n",
    "        \"</ul>\"\n",
    "        ,\n",
    "        radius=(int(np.log2(df_india.iloc[i]['confirmed']+1)))*15000,\n",
    "        color='#ff6600',\n",
    "        fill_color='#ff8533',\n",
    "        fill=True).add_to(india)\n",
    "\n",
    "india"
   ]
  },
  {
   "cell_type": "code",
   "execution_count": null,
   "metadata": {},
   "outputs": [],
   "source": [
    "df_india.head()"
   ]
  },
  {
   "cell_type": "code",
   "execution_count": null,
   "metadata": {},
   "outputs": [],
   "source": [
    "df_india.columns"
   ]
  },
  {
   "cell_type": "code",
   "execution_count": null,
   "metadata": {},
   "outputs": [],
   "source": [
    "# stacked bar chart\n",
    "\n",
    "# color pallette\n",
    "dth = 'red'\n",
    "rec = 'green'\n",
    "act = 'orange'\n",
    "\n",
    "datewise1 = datewise.reset_index()\n",
    "\n",
    "# subset columns\n",
    "temp = datewise1[['Date','Active Cases', 'Deaths', 'Cured']]\n",
    "\n",
    "# rename columns\n",
    "temp.columns = ['Date','Active', 'Deaths', 'Cured']\n",
    "\n",
    "# melt data\n",
    "temp = temp.melt(id_vars=\"Date\", value_vars=['Cured', 'Deaths', 'Active'],\n",
    "                 var_name='Case', value_name='Count')\n",
    "temp.head()\n",
    "\n",
    "# plot\n",
    "fig_2 = px.bar(temp, x='Date', y=\"Count\", color='Case', height=540, color_discrete_sequence = [rec, dth, act])\n",
    "fig_2.update_layout(plot_bgcolor='rgba(0,0,0,0)')\n",
    "fig_2.show()"
   ]
  },
  {
   "cell_type": "code",
   "execution_count": null,
   "metadata": {},
   "outputs": [],
   "source": [
    "df_india.index.unique()"
   ]
  },
  {
   "cell_type": "code",
   "execution_count": null,
   "metadata": {},
   "outputs": [],
   "source": [
    "temp = df_india.reset_index()\n",
    "temp = temp.loc[temp.state != 'State Unassigned']\n",
    "temp['Mortality Rate (per 100)'] = (100*(temp['deaths'])/temp['confirmed']).round(3)\n",
    "temp['Recovery Rate'] = (100*(temp['recovered'])/temp['confirmed']).round(3)\n",
    "fig_c = px.bar(temp.sort_values('confirmed').tail(10), x=\"confirmed\", y=\"state\", \n",
    "               text='confirmed', orientation='h', color_discrete_sequence = ['blue'])\n",
    "fig_a = px.bar(temp.sort_values('active').tail(10), x=\"active\", y=\"state\", \n",
    "               text='active', orientation='h', color_discrete_sequence = ['#323232'])\n",
    "\n",
    "fig_d = px.bar(temp.sort_values('deaths').tail(10), x=\"deaths\", y=\"state\", \n",
    "               text='deaths', orientation='h', color_discrete_sequence = ['#ff677d'])\n",
    "fig_mr = px.bar(temp[temp['confirmed']>100].sort_values('Mortality Rate (per 100)').tail(10), \n",
    "                x=\"Mortality Rate (per 100)\", y=\"state\", \n",
    "                text='Mortality Rate (per 100)', orientation='h', color_discrete_sequence = ['#cd6684'])\n",
    "\n",
    "fig_r = px.bar(temp.sort_values('recovered').tail(10), x=\"recovered\", y=\"state\", \n",
    "               text='recovered', orientation='h', color_discrete_sequence = ['#649d66'])\n",
    "fig_rr = px.bar(temp[temp['confirmed']>100].sort_values('Recovery Rate').tail(10), \n",
    "                x=\"Recovery Rate\", y=\"state\", \n",
    "                text='Recovery Rate', orientation='h', color_discrete_sequence = ['#16817a'])\n",
    "\n",
    "fig = make_subplots(rows=3, cols=2, shared_xaxes=False, horizontal_spacing=0.14, vertical_spacing=0.08,\n",
    "                    subplot_titles=('Confirmed cases', 'Active cases', \n",
    "                                    'Deaths reported', 'Mortality Rate (per 100)', \n",
    "                                    'Cured', 'Recovery rate (per 100)'))\n",
    "\n",
    "fig.add_trace(fig_c['data'][0], row=1, col=1)\n",
    "fig.add_trace(fig_a['data'][0], row=1, col=2)\n",
    "\n",
    "fig.add_trace(fig_d['data'][0], row=2, col=1)\n",
    "fig.add_trace(fig_mr['data'][0], row=2, col=2)\n",
    "\n",
    "fig.add_trace(fig_r['data'][0], row=3, col=1)\n",
    "fig.add_trace(fig_rr['data'][0], row=3, col=2)\n",
    "\n",
    "# fig.update_layout(height=1200, title_text=\"Leading State/UT\")\n",
    "fig.update_layout(height=1200, plot_bgcolor='rgba(0,0,0,0)')\n",
    "fig.update_xaxes(showline=True, linewidth=1, linecolor='black')\n",
    "fig.update_yaxes(showline=True, linewidth=1, linecolor='black')"
   ]
  },
  {
   "cell_type": "code",
   "execution_count": null,
   "metadata": {
    "scrolled": true
   },
   "outputs": [],
   "source": [
    "f, ax = plt.subplots(figsize=(12, 8))\n",
    "# df_india.sort_values('confirmed',ascending=False,inplace=True)\n",
    "sns.set_color_codes(\"pastel\")\n",
    "sns.barplot(x=\"confirmed\", y=df_india.index, data=df_india,\n",
    "            label=\"Total\", color=\"r\")\n",
    "\n",
    "sns.set_color_codes(\"muted\")\n",
    "sns.barplot(x=\"recovered\", y=df_india.index, data=df_india,\n",
    "            label=\"Recovered\", color=\"g\")\n",
    "\n",
    "\n",
    "# Add a legend and informative axis label\n",
    "ax.legend(ncol=2, loc=\"lower right\", frameon=True)\n",
    "ax.set(xlim=(0, df_india.confirmed.max()), ylabel=\"\",\n",
    "       xlabel=\"Cases\")\n",
    "sns.despine(left=True, bottom=True)"
   ]
  },
  {
   "cell_type": "code",
   "execution_count": null,
   "metadata": {
    "scrolled": true
   },
   "outputs": [],
   "source": [
    "f, ax = plt.subplots(figsize=(12, 8))\n",
    "# df_india.sort_values('confirmed',ascending=False,inplace=True)\n",
    "sns.set_color_codes(\"pastel\")\n",
    "sns.barplot(x=\"confirmed\", y=df_india.iloc[1:,:].index, data=df_india.iloc[1:,:],\n",
    "            label=\"Total\", color=\"r\")\n",
    "\n",
    "sns.set_color_codes(\"muted\")\n",
    "sns.barplot(x=\"recovered\", y=df_india.iloc[1:,:].index, data=df_india.iloc[1:,:],\n",
    "            label=\"Recovered\", color=\"g\")\n",
    "\n",
    "\n",
    "# Add a legend and informative axis label\n",
    "ax.legend(ncol=2, loc=\"lower right\", frameon=True)\n",
    "ax.set(xlim=(0, df_india.iloc[1:,:].confirmed.max()), ylabel=\"\",\n",
    "       xlabel=\"Cases\")\n",
    "sns.despine(left=True, bottom=True)"
   ]
  },
  {
   "cell_type": "code",
   "execution_count": null,
   "metadata": {
    "scrolled": true
   },
   "outputs": [],
   "source": [
    "f, ax = plt.subplots(figsize=(12, 8))\n",
    "# df_india.sort_values('confirmed',ascending=False,inplace=True)\n",
    "sns.set_color_codes(\"pastel\")\n",
    "sns.barplot(x=\"confirmed\", y=df_india[df_india['deaths']>0].index, data=df_india[df_india['deaths']>0],\n",
    "            label=\"Total\", color=\"orange\")\n",
    "\n",
    "sns.set_color_codes(\"muted\")\n",
    "sns.barplot(x=\"deaths\", y=df_india[df_india['deaths']>0].index, data=df_india[df_india['deaths']>0],\n",
    "            label=\"Deaths\", color=\"red\")\n",
    "\n",
    "\n",
    "# Add a legend and informative axis label\n",
    "ax.legend(ncol=2, loc=\"lower right\", frameon=True)\n",
    "ax.set(xlim=(0, df_india[df_india['deaths']>0].confirmed.max()), ylabel=\"\",\n",
    "       xlabel=\"Cases\")\n",
    "sns.despine(left=True, bottom=True)"
   ]
  },
  {
   "cell_type": "markdown",
   "metadata": {},
   "source": [
    "###### State wise TS data"
   ]
  },
  {
   "cell_type": "code",
   "execution_count": null,
   "metadata": {},
   "outputs": [],
   "source": [
    "#https://www.kaggle.com/sudalairajkumar/covid19-in-india?select=covid_19_india.csv\n",
    "states_df = pd.read_csv('/Users/apple/Desktop/COVID/datasets_557629_1234650_covid_19_india.csv')"
   ]
  },
  {
   "cell_type": "code",
   "execution_count": null,
   "metadata": {},
   "outputs": [],
   "source": [
    "states_df.shape"
   ]
  },
  {
   "cell_type": "code",
   "execution_count": null,
   "metadata": {},
   "outputs": [],
   "source": [
    "states_df.columns"
   ]
  },
  {
   "cell_type": "code",
   "execution_count": null,
   "metadata": {},
   "outputs": [],
   "source": [
    "states_df = states_df.drop(columns = 'Sno')"
   ]
  },
  {
   "cell_type": "code",
   "execution_count": null,
   "metadata": {},
   "outputs": [],
   "source": [
    "states_df['Date'] = pd.to_datetime(states_df['Date'])"
   ]
  },
  {
   "cell_type": "code",
   "execution_count": null,
   "metadata": {},
   "outputs": [],
   "source": [
    "states_df.head()"
   ]
  },
  {
   "cell_type": "code",
   "execution_count": null,
   "metadata": {},
   "outputs": [],
   "source": [
    "states = states_df['State/UnionTerritory'].unique()\n",
    "print(len(states))\n",
    "states"
   ]
  },
  {
   "cell_type": "code",
   "execution_count": null,
   "metadata": {},
   "outputs": [],
   "source": [
    "states_df = states_df.loc[(states_df['State/UnionTerritory'] != 'Jharkhand#') & (states_df['State/UnionTerritory'] != 'Jharkhand#') & (states_df['State/UnionTerritory'] != 'Nagaland#') & (states_df['State/UnionTerritory'] != 'Cases being reassigned to states')& (states_df['State/UnionTerritory'] != 'Unassigned')]"
   ]
  },
  {
   "cell_type": "code",
   "execution_count": null,
   "metadata": {},
   "outputs": [],
   "source": [
    "states = states_df['State/UnionTerritory'].unique()"
   ]
  },
  {
   "cell_type": "code",
   "execution_count": null,
   "metadata": {},
   "outputs": [],
   "source": [
    "len(states)"
   ]
  },
  {
   "cell_type": "code",
   "execution_count": null,
   "metadata": {},
   "outputs": [],
   "source": [
    "states_df.index = states_df['Date']\n",
    "states_df = states_df.drop(columns = ['Date'])"
   ]
  },
  {
   "cell_type": "code",
   "execution_count": null,
   "metadata": {
    "scrolled": true
   },
   "outputs": [],
   "source": [
    "for i in states:\n",
    "    plt.figure()\n",
    "    states_df[states_df['State/UnionTerritory']==i]['Confirmed'].plot(title = i,figsize = (15,5))"
   ]
  },
  {
   "cell_type": "code",
   "execution_count": null,
   "metadata": {},
   "outputs": [],
   "source": [
    "states_df[states_df['State/UnionTerritory']=='Kerala']['Confirmed']"
   ]
  },
  {
   "cell_type": "code",
   "execution_count": null,
   "metadata": {},
   "outputs": [],
   "source": [
    "states_df.info()"
   ]
  },
  {
   "cell_type": "code",
   "execution_count": null,
   "metadata": {},
   "outputs": [],
   "source": [
    "states_df['Deaths'] = states_df['Deaths'].replace('0#',0).astype('int64')"
   ]
  },
  {
   "cell_type": "code",
   "execution_count": null,
   "metadata": {},
   "outputs": [],
   "source": [
    "states_df['Active'] = states_df['Confirmed'] - states_df['Cured'] - states_df['Deaths']\n",
    "states_df['Active'] = states_df['Active'].astype('int64')"
   ]
  },
  {
   "cell_type": "code",
   "execution_count": null,
   "metadata": {},
   "outputs": [],
   "source": [
    "states"
   ]
  },
  {
   "cell_type": "code",
   "execution_count": null,
   "metadata": {},
   "outputs": [],
   "source": [
    "plt.style.use('seaborn')\n",
    "temp = states_df.reset_index()\n",
    "temp = temp.rename(columns = {'State/UnionTerritory' : 'State/UT'})\n",
    "g = sns.FacetGrid(temp.sort_values(['State/UT','Date']), \n",
    "                  col=\"State/UT\", hue=\"State/UT\", \n",
    "                  sharey=False, col_wrap=5)\n",
    "g = g.map(plt.plot, 'Date', \"Confirmed\")\n",
    "g.set_xticklabels(rotation=90)\n",
    "g.fig.subplots_adjust(top=0.9)\n",
    "# g.fig.suptitle('Confirmed case in each state over time', \n",
    "#                fontsize=20)\n",
    "plt.show()"
   ]
  },
  {
   "cell_type": "code",
   "execution_count": null,
   "metadata": {},
   "outputs": [],
   "source": [
    "plt.style.use('seaborn')\n",
    "temp = states_df.reset_index()\n",
    "temp = temp.rename(columns = {'State/UnionTerritory' : 'State/UT'})\n",
    "list1 = ['Kerala', 'Telengana', 'Delhi', 'Rajasthan', 'Uttar Pradesh',\n",
    "       'Haryana', 'Ladakh', 'Tamil Nadu', 'Karnataka', 'Maharashtra',\n",
    "       'Punjab', 'Jammu and Kashmir', 'Andhra Pradesh', 'Uttarakhand',\n",
    "       'Odisha', 'Puducherry', 'West Bengal', 'Chhattisgarh',\n",
    "       'Chandigarh', 'Gujarat', 'Himachal Pradesh', 'Madhya Pradesh',\n",
    "       'Bihar', 'Manipur', 'Andaman and Nicobar Islands',\n",
    "       'Goa', 'Assam', 'Jharkhand', 'Tripura', 'Meghalaya']\n",
    "\n",
    "# 'Sikkim' ,  'Mizoram', 'Dadar Nagar Haveli', 'Nagaland', 'Arunachal Pradesh' \n",
    "temp = temp[temp['State/UT'].isin(list1)]\n",
    "g = sns.FacetGrid(temp.sort_values(['State/UT','Date']), \n",
    "                  col=\"State/UT\", hue=\"State/UT\", \n",
    "                  sharey=False, col_wrap=5)\n",
    "g = g.map(plt.plot, 'Date', \"Confirmed\")\n",
    "g.set_xticklabels(rotation=90)\n",
    "g.fig.subplots_adjust(top=0.9)\n",
    "# g.fig.suptitle('Confirmed case in each state over time', \n",
    "#                fontsize=20)\n",
    "plt.show()"
   ]
  },
  {
   "cell_type": "code",
   "execution_count": null,
   "metadata": {},
   "outputs": [],
   "source": [
    "plt.style.use('seaborn')\n",
    "sns.set_style(\"whitegrid\", {'axes.grid' : True})\n",
    "temp = states_df.reset_index()\n",
    "temp = temp.rename(columns = {'State/UnionTerritory' : 'State/UT'})\n",
    "list1 = ['Kerala', 'Telengana', 'Delhi', 'Rajasthan', 'Uttar Pradesh',\n",
    "       'Haryana', 'Ladakh', 'Tamil Nadu', 'Karnataka', 'Maharashtra',\n",
    "       'Punjab', 'Jammu and Kashmir', 'Andhra Pradesh', 'Uttarakhand',\n",
    "       'Odisha', 'Puducherry', 'West Bengal', 'Chhattisgarh',\n",
    "       'Chandigarh', 'Gujarat', 'Himachal Pradesh', 'Madhya Pradesh',\n",
    "       'Bihar', 'Manipur', 'Andaman and Nicobar Islands',\n",
    "       'Goa', 'Assam', 'Jharkhand', 'Tripura', 'Meghalaya']\n",
    "\n",
    "# 'Sikkim' ,  'Mizoram', 'Dadar Nagar Haveli', 'Nagaland', 'Arunachal Pradesh' \n",
    "temp = temp[temp['State/UT'].isin(list1)]\n",
    "g = sns.FacetGrid(temp.sort_values(['State/UT','Date']), \n",
    "                  col=\"State/UT\", hue=\"State/UT\", \n",
    "                  sharey=False, col_wrap=5)\n",
    "g = g.map(plt.plot, 'Date', \"Confirmed\")\n",
    "g.set_xticklabels(rotation=90)\n",
    "g.fig.subplots_adjust(top=0.9)\n",
    "# g.fig.suptitle('Confirmed case in each state over time', \n",
    "#                fontsize=20)\n",
    "plt.show()"
   ]
  },
  {
   "cell_type": "code",
   "execution_count": null,
   "metadata": {},
   "outputs": [],
   "source": [
    "states_df.info()"
   ]
  },
  {
   "cell_type": "code",
   "execution_count": null,
   "metadata": {},
   "outputs": [],
   "source": [
    "states_df['Deaths'].groupby(states_df.index).agg({'Deaths' : 'sum'})"
   ]
  },
  {
   "cell_type": "code",
   "execution_count": null,
   "metadata": {},
   "outputs": [],
   "source": [
    "aggregate = {'Confirmed':'sum', 'Cured':'sum','Deaths' : 'sum', 'Active' : 'sum'}\n",
    "datewise  = states_df.groupby(states_df.index).agg(aggregate)\n",
    "# datewise.index = pd.to_datetime(datewise.index)\n",
    "# datewise.index = datewise.index.strftime('%Y-%m-%d') \n",
    "datewise.index = pd.to_datetime(datewise.index)\n",
    "datewise[\"Days Since\"]=datewise.index-datewise.index.min()"
   ]
  },
  {
   "cell_type": "code",
   "execution_count": null,
   "metadata": {},
   "outputs": [],
   "source": [
    "datewise[\"Days Since\"] = datewise[\"Days Since\"].dt.days"
   ]
  },
  {
   "cell_type": "code",
   "execution_count": null,
   "metadata": {},
   "outputs": [],
   "source": [
    "datewise"
   ]
  },
  {
   "cell_type": "code",
   "execution_count": null,
   "metadata": {},
   "outputs": [],
   "source": [
    "datewise[\"WeekOfYear\"]=datewise.index.weekofyear\n",
    "\n",
    "week_num=[]\n",
    "weekwise_confirmed=[]\n",
    "weekwise_recovered=[]\n",
    "weekwise_deaths=[]\n",
    "weekwise_active=[]\n",
    "w=1\n",
    "for i in list(datewise[\"WeekOfYear\"].unique()):\n",
    "    weekwise_confirmed.append(datewise[datewise[\"WeekOfYear\"]==i][\"Confirmed\"].iloc[-1])\n",
    "    weekwise_recovered.append(datewise[datewise[\"WeekOfYear\"]==i][\"Cured\"].iloc[-1])\n",
    "    weekwise_deaths.append(datewise[datewise[\"WeekOfYear\"]==i][\"Deaths\"].iloc[-1])\n",
    "    weekwise_active.append(datewise[datewise[\"WeekOfYear\"]==i][\"Active\"].iloc[-1])\n",
    "    week_num.append(w)\n",
    "    w=w+1\n",
    "\n",
    "fig=go.Figure()\n",
    "fig.add_trace(go.Scatter(x=week_num, y=weekwise_confirmed,\n",
    "                    mode='lines+markers',\n",
    "                    name='Weekly Growth of Confirmed Cases'))\n",
    "fig.add_trace(go.Scatter(x=week_num, y=weekwise_deaths,\n",
    "                    mode='lines+markers',\n",
    "                    name='Weekly Growth of Death Cases'))\n",
    "fig.add_trace(go.Scatter(x=week_num, y=weekwise_recovered,\n",
    "                    mode='lines+markers',\n",
    "                    name='Weekly Growth of Recovered Cases'))\n",
    "fig.add_trace(go.Scatter(x=week_num, y=weekwise_active,\n",
    "                    mode='lines+markers',\n",
    "                    name='Weekly Growth of Active Cases'))\n",
    "# fig.update_layout(title=\"Weekly Growth of different types of Cases in India\",\n",
    "#                  xaxis_title=\"Week Number\",yaxis_title=\"Number of Cases\",legend=dict(x=0,y=1,traceorder=\"normal\"), plot_bgcolor='rgba(0,0,0,0)')\n",
    "fig.update_layout(xaxis_title=\"Week Number\",yaxis_title=\"Number of Cases\",legend=dict(x=0,y=1,traceorder=\"normal\"), plot_bgcolor='rgba(0,0,0,0)')\n",
    "fig.show()"
   ]
  },
  {
   "cell_type": "code",
   "execution_count": null,
   "metadata": {},
   "outputs": [],
   "source": [
    "fig=px.bar(x=datewise.index,y=datewise[\"Confirmed\"]-datewise[\"Cured\"]-datewise[\"Deaths\"])\n",
    "# fig.update_layout(title=\"Distribution of Number of Active Cases\",\n",
    "#                   xaxis_title=\"Date\",yaxis_title=\"Number of Cases\", plot_bgcolor='rgba(0,0,0,0)')\n",
    "fig.update_layout(\n",
    "                  xaxis_title=\"Date\",yaxis_title=\"Number of Cases\", plot_bgcolor='rgba(0,0,0,0)')\n",
    "fig.show()"
   ]
  },
  {
   "cell_type": "code",
   "execution_count": null,
   "metadata": {
    "scrolled": false
   },
   "outputs": [],
   "source": [
    "fig=px.bar(x=datewise.index,y=datewise[\"Cured\"]+datewise[\"Deaths\"])\n",
    "# fig.update_layout(title=\"Distribution of Number of Closed Cases\",\n",
    "#                   xaxis_title=\"Date\",yaxis_title=\"Number of Cases\", plot_bgcolor='rgba(0,0,0,0)')\n",
    "fig.update_layout(\n",
    "                  xaxis_title=\"Date\",yaxis_title=\"Number of Cases\", plot_bgcolor='rgba(0,0,0,0)')\n",
    "fig.show()"
   ]
  },
  {
   "cell_type": "code",
   "execution_count": null,
   "metadata": {},
   "outputs": [],
   "source": [
    "fig, (ax1,ax2) = plt.subplots(1, 2,figsize=(15,5))\n",
    "sns.barplot(x=week_num,y=pd.Series(weekwise_confirmed).diff().fillna(0),ax=ax1)\n",
    "sns.barplot(x=week_num,y=pd.Series(weekwise_deaths).diff().fillna(0),ax=ax2)\n",
    "ax1.set_xlabel(\"Week Number\")\n",
    "ax2.set_xlabel(\"Week Number\")\n",
    "ax1.set_ylabel(\"Number of Confirmed Cases\")\n",
    "ax2.set_ylabel(\"Number of Death Cases\")\n",
    "ax1.set_title(\"Confirmed Cases (Weekly)\")\n",
    "ax2.set_title(\"Death Cases (Weekly)\")\n"
   ]
  },
  {
   "cell_type": "code",
   "execution_count": null,
   "metadata": {},
   "outputs": [],
   "source": [
    "#Calculating the Mortality Rate and Recovery Rate\n",
    "datewise[\"Mortality Rate\"]=(datewise[\"Deaths\"]/datewise[\"Confirmed\"])*100\n",
    "datewise[\"Recovery Rate\"]=(datewise[\"Cured\"]/datewise[\"Confirmed\"])*100\n",
    "datewise[\"Active Cases\"]=datewise[\"Confirmed\"]-datewise[\"Cured\"]-datewise[\"Deaths\"]\n",
    "datewise[\"Closed Cases\"]=datewise[\"Cured\"]+datewise[\"Deaths\"]\n",
    "\n",
    "print(\"Average Mortality Rate\",datewise[\"Mortality Rate\"].mean())\n",
    "print(\"Median Mortality Rate\",datewise[\"Mortality Rate\"].median())\n",
    "print(\"Average Recovery Rate\",datewise[\"Recovery Rate\"].mean())\n",
    "print(\"Median Recovery Rate\",datewise[\"Recovery Rate\"].median())\n",
    "\n",
    "#Plotting Mortality and Recovery Rate \n",
    "fig = make_subplots(rows=1, cols=2,\n",
    "                   subplot_titles=(\"Recovery Rate\", \"Mortatlity Rate\"))\n",
    "fig.add_trace(\n",
    "    go.Scatter(x=datewise.index, y=(datewise[\"Cured\"]/datewise[\"Confirmed\"])*100,name=\"Recovery Rate\"),\n",
    "    row=1, col=1\n",
    ")\n",
    "fig.add_trace(\n",
    "    go.Scatter(x=datewise.index, y=(datewise[\"Deaths\"]/datewise[\"Confirmed\"])*100,name=\"Mortality Rate\"),\n",
    "    row=1, col=2\n",
    ")\n",
    "fig.update_layout(height=400,showlegend=False, plot_bgcolor='rgba(0,0,0,0)')\n",
    "fig.update_xaxes(title_text=\"Date\", row=1, col=1)\n",
    "fig.update_yaxes(title_text=\"Recovery Rate\", row=1, col=1)\n",
    "fig.update_xaxes(title_text=\"Date\", row=1, col=2)\n",
    "fig.update_yaxes(title_text=\"Mortality Rate\", row=1, col=2)\n",
    "fig.update_xaxes(showline=True, linewidth=1, linecolor='black')\n",
    "fig.update_yaxes(showline=True, linewidth=1, linecolor='black')\n",
    "fig.show()"
   ]
  },
  {
   "cell_type": "code",
   "execution_count": null,
   "metadata": {},
   "outputs": [],
   "source": [
    "temp = datewise[datewise.index <= '2020-06-01']\n",
    "\n",
    "print(\"Average increase in number of Confirmed Cases every day: \",np.round(temp[\"Confirmed\"].diff().fillna(0).mean()))\n",
    "print(\"Average increase in number of Recovered Cases every day: \",np.round(temp[\"Cured\"].diff().fillna(0).mean()))\n",
    "print(\"Average increase in number of Deaths Cases every day: \",np.round(temp[\"Deaths\"].diff().fillna(0).mean()))\n",
    "\n",
    "fig=go.Figure()\n",
    "fig.add_trace(go.Scatter(x=temp.index, y=temp[\"Confirmed\"].diff().fillna(0),mode='lines+markers',\n",
    "                    name='Confirmed Cases'))\n",
    "fig.add_trace(go.Scatter(x=temp.index, y=temp[\"Deaths\"].diff().fillna(0),mode='lines+markers',\n",
    "                    name='Death Cases'))\n",
    "fig.add_trace(go.Scatter(x=temp.index, y=temp[\"Cured\"].diff().fillna(0),mode='lines+markers',\n",
    "                    name='Recovered Cases'))\n",
    "# fig.update_layout(title=\"Daily increase in different types of Cases\",\n",
    "#                  xaxis_title=\"Date\",yaxis_title=\"Number of Cases\",legend=dict(x=0,y=1,traceorder=\"normal\"),plot_bgcolor='rgba(0,0,0,0)')\n",
    "fig.update_layout(\n",
    "                 xaxis_title=\"Date\",yaxis_title=\"Number of Cases\",legend=dict(x=0,y=1,traceorder=\"normal\"),plot_bgcolor='rgba(0,0,0,0)')\n",
    "fig.update_xaxes(showline=True, linewidth=1, linecolor='black')\n",
    "fig.update_yaxes(showline=True, linewidth=1, linecolor='black')\n",
    "fig.show()"
   ]
  },
  {
   "cell_type": "code",
   "execution_count": null,
   "metadata": {},
   "outputs": [],
   "source": [
    "fig=go.Figure()\n",
    "for state in df_india.sort_values('deaths')[\"deaths\"].index[-10:]:\n",
    "    fig.add_trace(go.Scatter(x=states_df[states_df['State/UnionTerritory'] == state].index, y=states_df[states_df['State/UnionTerritory'] == state][\"Confirmed\"].rolling(window=7).mean().diff(),\n",
    "                    mode='lines',name=state))\n",
    "# fig.update_layout(height=800,title=\"7 Days Rolling Average of Daily increase of Confirmed Cases\",\n",
    "#                  xaxis_title=\"Date\",yaxis_title=\"Confirmed Cases\",\n",
    "#                  legend=dict(x=0,y=1,traceorder=\"normal\"), plot_bgcolor='rgba(0,0,0,0)')\n",
    "fig.update_layout(height=800,\n",
    "                 xaxis_title=\"Date\",yaxis_title=\"Confirmed Cases\",\n",
    "                 legend=dict(x=0,y=1,traceorder=\"normal\"), plot_bgcolor='rgba(0,0,0,0)')\n",
    "fig.update_xaxes(showline=True, linewidth=1, linecolor='black')\n",
    "fig.update_yaxes(showline=True, linewidth=1, linecolor='black')\n",
    "fig.show()"
   ]
  },
  {
   "cell_type": "code",
   "execution_count": null,
   "metadata": {},
   "outputs": [],
   "source": [
    "fig=go.Figure()\n",
    "for state in df_india.sort_values('deaths')[\"deaths\"].index[-5:]:\n",
    "    fig.add_trace(go.Scatter(x=states_df[states_df['State/UnionTerritory'] == state].index, y=states_df[states_df['State/UnionTerritory'] == state][\"Confirmed\"].rolling(window=14).mean().diff(),\n",
    "                    mode='lines',name=state))\n",
    "fig.update_layout(height=800,title=\"14 Days Rolling Average of Daily increase of Confirmed Cases\",\n",
    "                 xaxis_title=\"Date\",yaxis_title=\"Confirmed Cases\",\n",
    "                 legend=dict(x=0,y=1,traceorder=\"normal\"), plot_bgcolor='rgba(0,0,0,0)')\n",
    "fig.update_xaxes(showline=True, linewidth=1, linecolor='black')\n",
    "fig.update_yaxes(showline=True, linewidth=1, linecolor='black')\n",
    "fig.show()"
   ]
  },
  {
   "cell_type": "code",
   "execution_count": null,
   "metadata": {
    "scrolled": false
   },
   "outputs": [],
   "source": [
    "india_increase_confirm=[]\n",
    "india_increase_recover=[]\n",
    "india_increase_deaths=[]\n",
    "for i in range(datewise.shape[0]-1):\n",
    "    india_increase_confirm.append(((datewise[\"Confirmed\"].iloc[i+1])/datewise[\"Confirmed\"].iloc[i]))\n",
    "    india_increase_recover.append(((datewise[\"Cured\"].iloc[i+1])/datewise[\"Cured\"].iloc[i]))\n",
    "    india_increase_deaths.append(((datewise[\"Deaths\"].iloc[i+1])/datewise[\"Deaths\"].iloc[i]))\n",
    "india_increase_confirm.insert(0,1)\n",
    "india_increase_recover.insert(0,1)\n",
    "india_increase_deaths.insert(0,1)\n",
    "\n",
    "fig=go.Figure()\n",
    "fig.add_trace(go.Scatter(x=datewise.index, y=india_increase_confirm,\n",
    "                    mode='lines',\n",
    "                    name='Growth Factor of Confirmed Cases'))\n",
    "fig.add_trace(go.Scatter(x=datewise.index, y=india_increase_deaths,\n",
    "                    mode='lines',\n",
    "                    name='Growth Factor of Death Cases'))\n",
    "fig.add_trace(go.Scatter(x=datewise.index, y=india_increase_recover,\n",
    "                    mode='lines',\n",
    "                    name='Growth Factor of Recovered Cases'))\n",
    "fig.update_layout(title=\"Datewise Growth Factor of Active and Closed cases in India\",\n",
    "                 xaxis_title=\"Date\",yaxis_title=\"Growth Factor\",\n",
    "                 legend=dict(x=0,y=1,traceorder=\"normal\"), plot_bgcolor='rgba(0,0,0,0)')\n",
    "fig.show()"
   ]
  },
  {
   "cell_type": "markdown",
   "metadata": {},
   "source": [
    "### Prediction using Machine Learning Models"
   ]
  },
  {
   "cell_type": "markdown",
   "metadata": {},
   "source": [
    "###### Linear Regression Model for Confirm Cases Prediction"
   ]
  },
  {
   "cell_type": "code",
   "execution_count": null,
   "metadata": {},
   "outputs": [],
   "source": [
    "datewise[\"Days Since\"]=datewise.index-datewise.index[0]\n",
    "datewise[\"Days Since\"]=datewise[\"Days Since\"].dt.days"
   ]
  },
  {
   "cell_type": "code",
   "execution_count": null,
   "metadata": {},
   "outputs": [],
   "source": [
    "train_ml=datewise.iloc[:int(datewise.shape[0]*0.95)]\n",
    "valid_ml=datewise.iloc[int(datewise.shape[0]*0.95):]\n",
    "model_scores=[]"
   ]
  },
  {
   "cell_type": "code",
   "execution_count": null,
   "metadata": {},
   "outputs": [],
   "source": [
    "datewise"
   ]
  },
  {
   "cell_type": "code",
   "execution_count": null,
   "metadata": {},
   "outputs": [],
   "source": [
    "lin_reg=LinearRegression(normalize=True)"
   ]
  },
  {
   "cell_type": "code",
   "execution_count": null,
   "metadata": {},
   "outputs": [],
   "source": [
    "lin_reg.fit(np.array(train_ml[\"Days Since\"]).reshape(-1,1),np.array(train_ml[\"Confirmed\"]).reshape(-1,1))"
   ]
  },
  {
   "cell_type": "code",
   "execution_count": null,
   "metadata": {},
   "outputs": [],
   "source": [
    "prediction_valid_linreg=lin_reg.predict(np.array(valid_ml[\"Days Since\"]).reshape(-1,1))"
   ]
  },
  {
   "cell_type": "code",
   "execution_count": null,
   "metadata": {},
   "outputs": [],
   "source": [
    "model_scores.append(np.sqrt(mean_squared_error(valid_ml[\"Confirmed\"],prediction_valid_linreg)))\n",
    "print(\"Root Mean Square Error for Linear Regression: \",np.sqrt(mean_squared_error(valid_ml[\"Confirmed\"],prediction_valid_linreg)))"
   ]
  },
  {
   "cell_type": "code",
   "execution_count": null,
   "metadata": {
    "scrolled": false
   },
   "outputs": [],
   "source": [
    "plt.figure(figsize=(11,6))\n",
    "prediction_linreg=lin_reg.predict(np.array(datewise[\"Days Since\"]).reshape(-1,1))\n",
    "linreg_output=[]\n",
    "for i in range(prediction_linreg.shape[0]):\n",
    "    linreg_output.append(prediction_linreg[i][0])\n",
    "\n",
    "fig=go.Figure()\n",
    "fig.add_trace(go.Scatter(x=datewise.index, y=datewise[\"Confirmed\"],\n",
    "                    mode='lines+markers',name=\"Train Data for Confirmed Cases\"))\n",
    "fig.add_trace(go.Scatter(x=datewise.index, y=linreg_output,\n",
    "                    mode='lines',name=\"Linear Regression Best Fit Line\",\n",
    "                    line=dict(color='black', dash='dot')))\n",
    "fig.update_layout(title=\"Confirmed Cases Linear Regression Prediction\",\n",
    "                 xaxis_title=\"Date\",yaxis_title=\"Confirmed Cases\",legend=dict(x=0,y=1,traceorder=\"normal\"), plot_bgcolor='rgba(0,0,0,0)')\n",
    "fig.show()"
   ]
  },
  {
   "cell_type": "markdown",
   "metadata": {},
   "source": [
    "#### Polynomial Regression for Prediction of Confirmed Cases"
   ]
  },
  {
   "cell_type": "code",
   "execution_count": null,
   "metadata": {},
   "outputs": [],
   "source": [
    "train_ml=datewise.iloc[:int(datewise.shape[0]*0.95)]\n",
    "valid_ml=datewise.iloc[int(datewise.shape[0]*0.95):]"
   ]
  },
  {
   "cell_type": "code",
   "execution_count": null,
   "metadata": {},
   "outputs": [],
   "source": [
    "poly = PolynomialFeatures(degree = 10) "
   ]
  },
  {
   "cell_type": "code",
   "execution_count": null,
   "metadata": {},
   "outputs": [],
   "source": [
    "train_poly=poly.fit_transform(np.array(train_ml[\"Days Since\"]).reshape(-1,1))\n",
    "valid_poly=poly.fit_transform(np.array(valid_ml[\"Days Since\"]).reshape(-1,1))\n",
    "y=train_ml[\"Confirmed\"]"
   ]
  },
  {
   "cell_type": "code",
   "execution_count": null,
   "metadata": {},
   "outputs": [],
   "source": [
    "linreg=LinearRegression(normalize=True)\n",
    "linreg.fit(train_poly,y)"
   ]
  },
  {
   "cell_type": "code",
   "execution_count": null,
   "metadata": {},
   "outputs": [],
   "source": [
    "prediction_poly=linreg.predict(valid_poly)\n",
    "rmse_poly=np.sqrt(mean_squared_error(valid_ml[\"Confirmed\"],prediction_poly))\n",
    "model_scores.append(rmse_poly)\n",
    "print(\"Root Mean Squared Error for Polynomial Regression: \",rmse_poly)"
   ]
  },
  {
   "cell_type": "code",
   "execution_count": null,
   "metadata": {
    "scrolled": false
   },
   "outputs": [],
   "source": [
    "comp_data=poly.fit_transform(np.array(datewise[\"Days Since\"]).reshape(-1,1))\n",
    "plt.figure(figsize=(11,6))\n",
    "predictions_poly=linreg.predict(comp_data)\n",
    "\n",
    "fig=go.Figure()\n",
    "fig.add_trace(go.Scatter(x=datewise.index, y=datewise[\"Confirmed\"],\n",
    "                    mode='lines+markers',name=\"Train Data for Confirmed Cases\"))\n",
    "fig.add_trace(go.Scatter(x=datewise.index, y=predictions_poly,\n",
    "                    mode='lines',name=\"Polynomial Regression Best Fit\",\n",
    "                    line=dict(color='black', dash='dot')))\n",
    "fig.update_layout(title=\"Confirmed Cases Polynomial Regression Prediction\",\n",
    "                 xaxis_title=\"Date\",yaxis_title=\"Confirmed Cases\",\n",
    "                 legend=dict(x=0,y=1,traceorder=\"normal\"), plot_bgcolor='rgba(0,0,0,0)')\n",
    "fig.show()"
   ]
  },
  {
   "cell_type": "code",
   "execution_count": null,
   "metadata": {},
   "outputs": [],
   "source": [
    "new_prediction_poly=[]\n",
    "for i in range(1,30):\n",
    "    new_date_poly=poly.fit_transform(np.array(datewise[\"Days Since\"].max()+i).reshape(-1,1))\n",
    "    new_prediction_poly.append(linreg.predict(new_date_poly)[0])"
   ]
  },
  {
   "cell_type": "markdown",
   "metadata": {},
   "source": [
    "#### Support Vector Machine ModelRegressor for Prediction of Confirmed Cases"
   ]
  },
  {
   "cell_type": "code",
   "execution_count": null,
   "metadata": {},
   "outputs": [],
   "source": [
    "train_ml=datewise.iloc[:int(datewise.shape[0]*0.95)]\n",
    "valid_ml=datewise.iloc[int(datewise.shape[0]*0.95):]"
   ]
  },
  {
   "cell_type": "code",
   "execution_count": null,
   "metadata": {},
   "outputs": [],
   "source": [
    "#Intializing SVR Model\n",
    "svm=SVR(C=1,degree=5,kernel='poly',epsilon=0.01)"
   ]
  },
  {
   "cell_type": "code",
   "execution_count": null,
   "metadata": {},
   "outputs": [],
   "source": [
    "#Fitting model on the training data\n",
    "svm.fit(np.array(train_ml[\"Days Since\"]).reshape(-1,1),np.array(train_ml[\"Confirmed\"]).reshape(-1,1))"
   ]
  },
  {
   "cell_type": "code",
   "execution_count": null,
   "metadata": {},
   "outputs": [],
   "source": [
    "prediction_valid_svm=svm.predict(np.array(valid_ml[\"Days Since\"]).reshape(-1,1))"
   ]
  },
  {
   "cell_type": "code",
   "execution_count": null,
   "metadata": {},
   "outputs": [],
   "source": [
    "model_scores.append(np.sqrt(mean_squared_error(valid_ml[\"Confirmed\"],prediction_valid_svm)))\n",
    "print(\"Root Mean Square Error for Support Vectore Machine: \",np.sqrt(mean_squared_error(valid_ml[\"Confirmed\"],prediction_valid_svm)))"
   ]
  },
  {
   "cell_type": "code",
   "execution_count": null,
   "metadata": {},
   "outputs": [],
   "source": [
    "plt.figure(figsize=(11,6))\n",
    "prediction_svm=svm.predict(np.array(datewise[\"Days Since\"]).reshape(-1,1))\n",
    "fig=go.Figure()\n",
    "fig.add_trace(go.Scatter(x=datewise.index, y=datewise[\"Confirmed\"],\n",
    "                    mode='lines+markers',name=\"Train Data for Confirmed Cases\"))\n",
    "fig.add_trace(go.Scatter(x=datewise.index, y=prediction_svm,\n",
    "                    mode='lines',name=\"Support Vector Machine Best fit Kernel\",\n",
    "                    line=dict(color='black', dash='dot')))\n",
    "fig.update_layout(title=\"Confirmed Cases Support Vectore Machine Regressor Prediction\",\n",
    "                 xaxis_title=\"Date\",yaxis_title=\"Confirmed Cases\",legend=dict(x=0,y=1,traceorder=\"normal\"), plot_bgcolor='rgba(0,0,0,0)')\n",
    "fig.show()"
   ]
  },
  {
   "cell_type": "code",
   "execution_count": null,
   "metadata": {},
   "outputs": [],
   "source": [
    "new_date=[]\n",
    "new_prediction_lr=[]\n",
    "new_prediction_svm=[]\n",
    "for i in range(1,30):\n",
    "    new_date.append(datewise.index[-1]+timedelta(days=i))\n",
    "    new_prediction_lr.append(lin_reg.predict(np.array(datewise[\"Days Since\"].max()+i).reshape(-1,1))[0][0])\n",
    "    new_prediction_svm.append(svm.predict(np.array(datewise[\"Days Since\"].max()+i).reshape(-1,1))[0])"
   ]
  },
  {
   "cell_type": "code",
   "execution_count": null,
   "metadata": {},
   "outputs": [],
   "source": [
    "pd.set_option('display.float_format', lambda x: '%.6f' % x)\n",
    "model_predictions=pd.DataFrame(zip(new_date,new_prediction_lr,new_prediction_poly,new_prediction_svm),\n",
    "                               columns=[\"Dates\",\"Linear Regression Prediction\",\"Polynonmial Regression Prediction\",\"SVM Prediction\"])\n",
    "model_predictions.head()"
   ]
  },
  {
   "cell_type": "markdown",
   "metadata": {},
   "source": [
    "#### Time Series Forecasting"
   ]
  },
  {
   "cell_type": "markdown",
   "metadata": {},
   "source": [
    "###### Holt's Linear Model"
   ]
  },
  {
   "cell_type": "markdown",
   "metadata": {},
   "source": [
    "#### India Overall"
   ]
  },
  {
   "cell_type": "code",
   "execution_count": null,
   "metadata": {},
   "outputs": [],
   "source": [
    "model_train=datewise.iloc[:int(datewise.shape[0]*0.95)]\n",
    "valid=datewise.iloc[int(datewise.shape[0]*0.95):]"
   ]
  },
  {
   "cell_type": "code",
   "execution_count": null,
   "metadata": {},
   "outputs": [],
   "source": [
    "holt=Holt(np.asarray(model_train[\"Confirmed\"])).fit(smoothing_level=0.1, smoothing_slope=1.0,optimized=False)\n",
    "y_pred=valid.copy()"
   ]
  },
  {
   "cell_type": "code",
   "execution_count": null,
   "metadata": {},
   "outputs": [],
   "source": [
    "y_pred[\"Holt\"]=holt.forecast(len(valid))\n",
    "model_scores.append(np.sqrt(mean_squared_error(y_pred[\"Confirmed\"],y_pred[\"Holt\"])))\n",
    "print(\"Root Mean Square Error Holt's Linear Model: \",np.sqrt(mean_squared_error(y_pred[\"Confirmed\"],y_pred[\"Holt\"])))"
   ]
  },
  {
   "cell_type": "code",
   "execution_count": null,
   "metadata": {
    "scrolled": false
   },
   "outputs": [],
   "source": [
    "fig=go.Figure()\n",
    "fig.add_trace(go.Scatter(x=model_train.index, y=model_train[\"Confirmed\"],\n",
    "                    mode='lines+markers',name=\"Train Data for Confirmed Cases\"))\n",
    "fig.add_trace(go.Scatter(x=valid.index, y=valid[\"Confirmed\"],\n",
    "                    mode='lines+markers',name=\"Validation Data for Confirmed Cases\",))\n",
    "fig.add_trace(go.Scatter(x=valid.index, y=y_pred[\"Holt\"],\n",
    "                    mode='lines+markers',name=\"Prediction of Confirmed Cases\",))\n",
    "fig.update_layout(title=\"Confirmed Cases Holt's Linear Model Prediction\",\n",
    "                 xaxis_title=\"Date\",yaxis_title=\"Confirmed Cases\",legend=dict(x=0,y=1,traceorder=\"normal\"), plot_bgcolor='rgba(0,0,0,0)')\n",
    "fig.show()"
   ]
  },
  {
   "cell_type": "code",
   "execution_count": null,
   "metadata": {},
   "outputs": [],
   "source": [
    "holt_new_date=[]\n",
    "holt_new_prediction=[]\n",
    "for i in range(1,30):\n",
    "    holt_new_date.append(datewise.index[-1]+timedelta(days=i))\n",
    "    holt_new_prediction.append(holt.forecast((len(valid)+i))[-1])\n",
    "\n",
    "# model_predictions[\"Holt's Linear Model Prediction\"]=holt_new_prediction\n",
    "# model_predictions.head()"
   ]
  },
  {
   "cell_type": "markdown",
   "metadata": {},
   "source": [
    "#### Holt's Winter Model for Daily Time Series"
   ]
  },
  {
   "cell_type": "code",
   "execution_count": null,
   "metadata": {},
   "outputs": [],
   "source": [
    "model_train=datewise.iloc[:int(datewise.shape[0]*0.95)]\n",
    "valid=datewise.iloc[int(datewise.shape[0]*0.95):]\n",
    "y_pred=valid.copy()"
   ]
  },
  {
   "cell_type": "code",
   "execution_count": null,
   "metadata": {},
   "outputs": [],
   "source": [
    "es=ExponentialSmoothing(np.asarray(model_train['Confirmed']),seasonal_periods=4,trend='mul', seasonal='mul').fit()"
   ]
  },
  {
   "cell_type": "code",
   "execution_count": null,
   "metadata": {},
   "outputs": [],
   "source": [
    "y_pred[\"Holt's Winter Model\"]=es.forecast(len(valid))"
   ]
  },
  {
   "cell_type": "code",
   "execution_count": null,
   "metadata": {},
   "outputs": [],
   "source": [
    "model_scores.append(np.sqrt(mean_squared_error(y_pred[\"Confirmed\"],y_pred[\"Holt's Winter Model\"])))\n",
    "print(\"Root Mean Square Error for Holt's Winter Model: \",np.sqrt(mean_squared_error(y_pred[\"Confirmed\"],y_pred[\"Holt's Winter Model\"])))"
   ]
  },
  {
   "cell_type": "code",
   "execution_count": null,
   "metadata": {},
   "outputs": [],
   "source": [
    "fig=go.Figure()\n",
    "fig.add_trace(go.Scatter(x=model_train.index, y=model_train[\"Confirmed\"],\n",
    "                    mode='lines+markers',name=\"Train Data for Confirmed Cases\"))\n",
    "fig.add_trace(go.Scatter(x=valid.index, y=valid[\"Confirmed\"],\n",
    "                    mode='lines+markers',name=\"Validation Data for Confirmed Cases\",))\n",
    "fig.add_trace(go.Scatter(x=valid.index, y=y_pred[\"Holt\\'s Winter Model\"],\n",
    "                    mode='lines+markers',name=\"Prediction of Confirmed Cases\",))\n",
    "fig.update_layout(title=\"Confirmed Cases Holt's Winter Model Prediction\",\n",
    "                 xaxis_title=\"Date\",yaxis_title=\"Confirmed Cases\",legend=dict(x=0,y=1,traceorder=\"normal\"), plot_bgcolor='rgba(0,0,0,0)')\n",
    "fig.show()"
   ]
  },
  {
   "cell_type": "code",
   "execution_count": null,
   "metadata": {},
   "outputs": [],
   "source": [
    "holt_winter_new_prediction=[]\n",
    "for i in range(1,30):\n",
    "    holt_winter_new_prediction.append(es.forecast((len(valid)+i))[-1])\n",
    "model_predictions[\"Holt's Winter Model Prediction\"]=holt_winter_new_prediction\n",
    "model_predictions.head()"
   ]
  },
  {
   "cell_type": "markdown",
   "metadata": {},
   "source": [
    "###### AR Model (using AUTO ARIMA)"
   ]
  },
  {
   "cell_type": "code",
   "execution_count": null,
   "metadata": {},
   "outputs": [],
   "source": [
    "model_train=datewise.iloc[:int(datewise.shape[0]*0.95)]\n",
    "valid=datewise.iloc[int(datewise.shape[0]*0.95):]\n",
    "y_pred=valid.copy()"
   ]
  },
  {
   "cell_type": "code",
   "execution_count": null,
   "metadata": {},
   "outputs": [],
   "source": [
    "model_ar= auto_arima(model_train[\"Confirmed\"],trace=True, error_action='ignore', start_p=0,start_q=0,max_p=5,max_q=0,\n",
    "                   suppress_warnings=True,stepwise=False,seasonal=False)\n",
    "model_ar.fit(model_train[\"Confirmed\"])"
   ]
  },
  {
   "cell_type": "code",
   "execution_count": null,
   "metadata": {},
   "outputs": [],
   "source": [
    "prediction_ar=model_ar.predict(len(valid))\n",
    "y_pred[\"AR Model Prediction\"]=prediction_ar"
   ]
  },
  {
   "cell_type": "code",
   "execution_count": null,
   "metadata": {},
   "outputs": [],
   "source": [
    "model_scores.append(np.sqrt(mean_squared_error(y_pred[\"Confirmed\"],y_pred[\"AR Model Prediction\"])))\n",
    "print(\"Root Mean Square Error for AR Model: \",np.sqrt(mean_squared_error(y_pred[\"Confirmed\"],y_pred[\"AR Model Prediction\"])))"
   ]
  },
  {
   "cell_type": "code",
   "execution_count": null,
   "metadata": {},
   "outputs": [],
   "source": [
    "fig=go.Figure()\n",
    "fig.add_trace(go.Scatter(x=model_train.index, y=model_train[\"Confirmed\"],\n",
    "                    mode='lines+markers',name=\"Train Data for Confirmed Cases\"))\n",
    "fig.add_trace(go.Scatter(x=valid.index, y=valid[\"Confirmed\"],\n",
    "                    mode='lines+markers',name=\"Validation Data for Confirmed Cases\",))\n",
    "fig.add_trace(go.Scatter(x=valid.index, y=y_pred[\"AR Model Prediction\"],\n",
    "                    mode='lines+markers',name=\"Prediction of Confirmed Cases\",))\n",
    "fig.update_layout(title=\"Confirmed Cases AR Model Prediction\",\n",
    "                 xaxis_title=\"Date\",yaxis_title=\"Confirmed Cases\",legend=dict(x=0,y=1,traceorder=\"normal\"), plot_bgcolor='rgba(0,0,0,0)')\n",
    "fig.show()"
   ]
  },
  {
   "cell_type": "code",
   "execution_count": null,
   "metadata": {},
   "outputs": [],
   "source": [
    "AR_model_new_prediction=[]\n",
    "for i in range(1,30):\n",
    "    AR_model_new_prediction.append(model_ar.predict(len(valid)+i)[-1])\n",
    "model_predictions[\"AR Model Prediction\"]=AR_model_new_prediction\n",
    "model_predictions.head()"
   ]
  },
  {
   "cell_type": "markdown",
   "metadata": {},
   "source": [
    "###### MA Model (using AUTO ARIMA)"
   ]
  },
  {
   "cell_type": "code",
   "execution_count": null,
   "metadata": {},
   "outputs": [],
   "source": [
    "model_train=datewise.iloc[:int(datewise.shape[0]*0.95)]\n",
    "valid=datewise.iloc[int(datewise.shape[0]*0.95):]\n",
    "y_pred=valid.copy()"
   ]
  },
  {
   "cell_type": "code",
   "execution_count": null,
   "metadata": {},
   "outputs": [],
   "source": [
    "model_ma= auto_arima(model_train[\"Confirmed\"],trace=True, error_action='ignore', start_p=0,start_q=0,max_p=0,max_q=5,\n",
    "                   suppress_warnings=True,stepwise=False,seasonal=False)\n",
    "model_ma.fit(model_train[\"Confirmed\"])"
   ]
  },
  {
   "cell_type": "code",
   "execution_count": null,
   "metadata": {},
   "outputs": [],
   "source": [
    "prediction_ma=model_ma.predict(len(valid))\n",
    "y_pred[\"MA Model Prediction\"]=prediction_ma"
   ]
  },
  {
   "cell_type": "code",
   "execution_count": null,
   "metadata": {},
   "outputs": [],
   "source": [
    "model_scores.append(np.sqrt(mean_squared_error(valid[\"Confirmed\"],prediction_ma)))\n",
    "print(\"Root Mean Square Error for MA Model: \",np.sqrt(mean_squared_error(valid[\"Confirmed\"],prediction_ma)))"
   ]
  },
  {
   "cell_type": "code",
   "execution_count": null,
   "metadata": {},
   "outputs": [],
   "source": [
    "fig=go.Figure()\n",
    "fig.add_trace(go.Scatter(x=model_train.index, y=model_train[\"Confirmed\"],\n",
    "                    mode='lines+markers',name=\"Train Data for Confirmed Cases\"))\n",
    "fig.add_trace(go.Scatter(x=valid.index, y=valid[\"Confirmed\"],\n",
    "                    mode='lines+markers',name=\"Validation Data for Confirmed Cases\",))\n",
    "fig.add_trace(go.Scatter(x=valid.index, y=y_pred[\"MA Model Prediction\"],\n",
    "                    mode='lines+markers',name=\"Prediction for Confirmed Cases\",))\n",
    "fig.update_layout(title=\"Confirmed Cases MA Model Prediction\",\n",
    "                 xaxis_title=\"Date\",yaxis_title=\"Confirmed Cases\",legend=dict(x=0,y=1,traceorder=\"normal\"), plot_bgcolor='rgba(0,0,0,0)')\n",
    "fig.show()"
   ]
  },
  {
   "cell_type": "code",
   "execution_count": null,
   "metadata": {},
   "outputs": [],
   "source": [
    "MA_model_new_prediction=[]\n",
    "for i in range(1,30):\n",
    "    MA_model_new_prediction.append(model_ma.predict(len(valid)+i)[-1])\n",
    "model_predictions[\"MA Model Prediction\"]=MA_model_new_prediction\n",
    "model_predictions.head()"
   ]
  },
  {
   "cell_type": "markdown",
   "metadata": {},
   "source": [
    "###### ARIMA Model (using AUTOARIMA)"
   ]
  },
  {
   "cell_type": "code",
   "execution_count": null,
   "metadata": {},
   "outputs": [],
   "source": [
    "model_train=datewise.iloc[:int(datewise.shape[0]*0.95)]\n",
    "valid=datewise.iloc[int(datewise.shape[0]*0.95):]\n",
    "y_pred=valid.copy()"
   ]
  },
  {
   "cell_type": "code",
   "execution_count": null,
   "metadata": {},
   "outputs": [],
   "source": [
    "model_arima= auto_arima(model_train[\"Confirmed\"],trace=True, error_action='ignore', start_p=1,start_q=1,max_p=3,max_q=3,\n",
    "                   suppress_warnings=True,stepwise=False,seasonal=False)\n",
    "model_arima.fit(model_train[\"Confirmed\"])"
   ]
  },
  {
   "cell_type": "code",
   "execution_count": null,
   "metadata": {},
   "outputs": [],
   "source": [
    "prediction_arima=model_arima.predict(len(valid))\n",
    "y_pred[\"ARIMA Model Prediction\"]=prediction_arima"
   ]
  },
  {
   "cell_type": "code",
   "execution_count": null,
   "metadata": {},
   "outputs": [],
   "source": [
    "model_scores.append(np.sqrt(mean_squared_error(valid[\"Confirmed\"],prediction_arima)))\n",
    "print(\"Root Mean Square Error for ARIMA Model: \",np.sqrt(mean_squared_error(valid[\"Confirmed\"],prediction_arima)))"
   ]
  },
  {
   "cell_type": "code",
   "execution_count": null,
   "metadata": {},
   "outputs": [],
   "source": [
    "fig=go.Figure()\n",
    "fig.add_trace(go.Scatter(x=model_train.index, y=model_train[\"Confirmed\"],\n",
    "                    mode='lines+markers',name=\"Train Data for Confirmed Cases\"))\n",
    "fig.add_trace(go.Scatter(x=valid.index, y=valid[\"Confirmed\"],\n",
    "                    mode='lines+markers',name=\"Validation Data for Confirmed Cases\",))\n",
    "fig.add_trace(go.Scatter(x=valid.index, y=y_pred[\"ARIMA Model Prediction\"],\n",
    "                    mode='lines+markers',name=\"Prediction for Confirmed Cases\",))\n",
    "fig.update_layout(title=\"Confirmed Cases ARIMA Model Prediction\",\n",
    "                 xaxis_title=\"Date\",yaxis_title=\"Confirmed Cases\",legend=dict(x=0,y=1,traceorder=\"normal\"), plot_bgcolor='rgba(0,0,0,0)')\n",
    "fig.show()"
   ]
  },
  {
   "cell_type": "code",
   "execution_count": null,
   "metadata": {},
   "outputs": [],
   "source": [
    "ARIMA_model_new_prediction=[]\n",
    "for i in range(1,30):\n",
    "    ARIMA_model_new_prediction.append(model_arima.predict(len(valid)+i)[-1])\n",
    "model_predictions[\"ARIMA Model Prediction\"]=ARIMA_model_new_prediction\n",
    "model_predictions.head()"
   ]
  },
  {
   "cell_type": "markdown",
   "metadata": {},
   "source": [
    "###### SARIMA Model (using AUTO ARIMA)"
   ]
  },
  {
   "cell_type": "code",
   "execution_count": null,
   "metadata": {},
   "outputs": [],
   "source": [
    "model_sarima= auto_arima(model_train[\"Confirmed\"],trace=True, error_action='ignore', \n",
    "                         start_p=0,start_q=0,max_p=3,max_q=3,m=7,\n",
    "                   suppress_warnings=True,stepwise=True,seasonal=True)\n",
    "model_sarima.fit(model_train[\"Confirmed\"])"
   ]
  },
  {
   "cell_type": "code",
   "execution_count": null,
   "metadata": {},
   "outputs": [],
   "source": [
    "prediction_sarima=model_sarima.predict(len(valid))\n",
    "y_pred[\"SARIMA Model Prediction\"]=prediction_sarima"
   ]
  },
  {
   "cell_type": "code",
   "execution_count": null,
   "metadata": {},
   "outputs": [],
   "source": [
    "model_scores.append(np.sqrt(mean_squared_error(y_pred[\"Confirmed\"],y_pred[\"SARIMA Model Prediction\"])))\n",
    "print(\"Root Mean Square Error for SARIMA Model: \",np.sqrt(mean_squared_error(y_pred[\"Confirmed\"],y_pred[\"SARIMA Model Prediction\"])))"
   ]
  },
  {
   "cell_type": "code",
   "execution_count": null,
   "metadata": {},
   "outputs": [],
   "source": [
    "fig=go.Figure()\n",
    "fig.add_trace(go.Scatter(x=model_train.index, y=model_train[\"Confirmed\"],\n",
    "                    mode='lines+markers',name=\"Train Data for Confirmed Cases\"))\n",
    "fig.add_trace(go.Scatter(x=valid.index, y=valid[\"Confirmed\"],\n",
    "                    mode='lines+markers',name=\"Validation Data for Confirmed Cases\",))\n",
    "fig.add_trace(go.Scatter(x=valid.index, y=y_pred[\"SARIMA Model Prediction\"],\n",
    "                    mode='lines+markers',name=\"Prediction for Confirmed Cases\",))\n",
    "fig.update_layout(title=\"Confirmed Cases SARIMA Model Prediction\",\n",
    "                 xaxis_title=\"Date\",yaxis_title=\"Confirmed Cases\",legend=dict(x=0,y=1,traceorder=\"normal\"), plot_bgcolor='rgba(0,0,0,0)')\n",
    "fig.show()"
   ]
  },
  {
   "cell_type": "code",
   "execution_count": null,
   "metadata": {},
   "outputs": [],
   "source": [
    "SARIMA_model_new_prediction=[]\n",
    "for i in range(1,30):\n",
    "    SARIMA_model_new_prediction.append(model_sarima.predict(len(valid)+i)[-1])\n",
    "model_predictions[\"SARIMA Model Prediction\"]=SARIMA_model_new_prediction\n",
    "model_predictions.head()"
   ]
  },
  {
   "cell_type": "markdown",
   "metadata": {},
   "source": [
    "###### Facebook's Prophet Model for forecasting"
   ]
  },
  {
   "cell_type": "code",
   "execution_count": null,
   "metadata": {},
   "outputs": [],
   "source": [
    "prophet_c=Prophet(interval_width=0.95,weekly_seasonality=True,)\n",
    "prophet_confirmed=pd.DataFrame(zip(list(datewise.index),list(datewise[\"Confirmed\"])),columns=['ds','y'])"
   ]
  },
  {
   "cell_type": "code",
   "execution_count": null,
   "metadata": {},
   "outputs": [],
   "source": [
    "prophet_c.fit(prophet_confirmed)"
   ]
  },
  {
   "cell_type": "code",
   "execution_count": null,
   "metadata": {},
   "outputs": [],
   "source": [
    "forecast_c=prophet_c.make_future_dataframe(periods=17)\n",
    "forecast_confirmed=forecast_c.copy()"
   ]
  },
  {
   "cell_type": "code",
   "execution_count": null,
   "metadata": {},
   "outputs": [],
   "source": [
    "confirmed_forecast=prophet_c.predict(forecast_c)\n",
    "#print(confirmed_forecast[['ds','yhat', 'yhat_lower', 'yhat_upper']])"
   ]
  },
  {
   "cell_type": "code",
   "execution_count": null,
   "metadata": {},
   "outputs": [],
   "source": [
    "model_scores.append(np.sqrt(mean_squared_error(datewise[\"Confirmed\"],confirmed_forecast['yhat'].head(datewise.shape[0]))))\n",
    "print(\"Root Mean Squared Error for Prophet Model: \",np.sqrt(mean_squared_error(datewise[\"Confirmed\"],confirmed_forecast['yhat'].head(datewise.shape[0]))))"
   ]
  },
  {
   "cell_type": "code",
   "execution_count": null,
   "metadata": {},
   "outputs": [],
   "source": [
    "print(prophet_c.plot(confirmed_forecast))"
   ]
  },
  {
   "cell_type": "code",
   "execution_count": null,
   "metadata": {},
   "outputs": [],
   "source": [
    "print(prophet_c.plot_components(confirmed_forecast))"
   ]
  },
  {
   "cell_type": "markdown",
   "metadata": {},
   "source": [
    "###### Forecast of the 30 days"
   ]
  },
  {
   "cell_type": "code",
   "execution_count": null,
   "metadata": {},
   "outputs": [],
   "source": [
    "model_predictions"
   ]
  },
  {
   "cell_type": "markdown",
   "metadata": {},
   "source": [
    "###### Summarization of Forecasts using different Models"
   ]
  },
  {
   "cell_type": "code",
   "execution_count": null,
   "metadata": {},
   "outputs": [],
   "source": [
    "model_names=[\"Linear Regression\",\"Polynomial Regression\",\"Support Vector Machine Regressor\",\"Holt's Linear\",\"Holt's Winter Model\",\n",
    "            \"Auto Regressive Model (AR)\",\"Moving Average Model (MA)\",\"ARIMA Model\",\"SARIMA Model\"]#,\"Facebook's Prophet Model\"]\n",
    "model_summary=pd.DataFrame(zip(model_names,model_scores),columns=[\"Model Name\",\"Root Mean Squared Error\"]).sort_values([\"Root Mean Squared Error\"])\n",
    "model_summary"
   ]
  },
  {
   "cell_type": "markdown",
   "metadata": {},
   "source": [
    "###### Time Series Forecasting for Death Cases"
   ]
  },
  {
   "cell_type": "code",
   "execution_count": null,
   "metadata": {},
   "outputs": [],
   "source": [
    "fig=go.Figure()\n",
    "fig.add_trace(go.Scatter(x=model_train.index, y=model_train[\"Deaths\"],\n",
    "                    mode='lines+markers',name=\"Death Cases\"))\n",
    "fig.update_layout(title=\"Death Cases\",\n",
    "                 xaxis_title=\"Date\",yaxis_title=\"Number of Death Cases\",legend=dict(x=0,y=1,traceorder=\"normal\"), plot_bgcolor='rgba(0,0,0,0)')\n",
    "fig.show()"
   ]
  },
  {
   "cell_type": "code",
   "execution_count": null,
   "metadata": {},
   "outputs": [],
   "source": [
    "model_train=datewise.iloc[:int(datewise.shape[0]*0.95)]\n",
    "valid=datewise.iloc[int(datewise.shape[0]*0.95):]\n",
    "y_pred=valid.copy()"
   ]
  },
  {
   "cell_type": "code",
   "execution_count": null,
   "metadata": {},
   "outputs": [],
   "source": [
    "model_arima_deaths=auto_arima(model_train[\"Deaths\"],trace=True, error_action='ignore', start_p=0,start_q=0,\n",
    "                              max_p=2,max_q=2,suppress_warnings=True,stepwise=False,seasonal=False)     \n",
    "model_arima_deaths.fit(model_train[\"Deaths\"])"
   ]
  },
  {
   "cell_type": "code",
   "execution_count": null,
   "metadata": {},
   "outputs": [],
   "source": [
    "predictions_deaths=model_arima_deaths.predict(len(valid))\n",
    "y_pred[\"ARIMA Death Prediction\"]=predictions_deaths"
   ]
  },
  {
   "cell_type": "code",
   "execution_count": null,
   "metadata": {},
   "outputs": [],
   "source": [
    "print(\"Root Mean Square Error: \",np.sqrt(mean_squared_error(valid[\"Deaths\"],predictions_deaths)))"
   ]
  },
  {
   "cell_type": "code",
   "execution_count": null,
   "metadata": {},
   "outputs": [],
   "source": [
    "fig=go.Figure()\n",
    "fig.add_trace(go.Scatter(x=model_train.index, y=model_train[\"Deaths\"],\n",
    "                    mode='lines+markers',name=\"Train Data for Death Cases\"))\n",
    "fig.add_trace(go.Scatter(x=valid.index, y=valid[\"Deaths\"],\n",
    "                    mode='lines+markers',name=\"Validation Data for Death Cases\",))\n",
    "fig.add_trace(go.Scatter(x=valid.index, y=y_pred[\"ARIMA Death Prediction\"],\n",
    "                    mode='lines+markers',name=\"Prediction for Death Cases\",))\n",
    "fig.update_layout(title=\"Death Cases ARIMA Model Prediction\",\n",
    "                 xaxis_title=\"Date\",yaxis_title=\"Death Cases\",legend=dict(x=0,y=1,traceorder=\"normal\"), plot_bgcolor='rgba(0,0,0,0)')\n",
    "fig.show()"
   ]
  },
  {
   "cell_type": "code",
   "execution_count": null,
   "metadata": {},
   "outputs": [],
   "source": [
    "ARIMA_model_death_forecast=[]\n",
    "for i in range(1,30):\n",
    "    ARIMA_model_death_forecast.append(model_arima_deaths.predict(len(valid)+i)[-1])"
   ]
  },
  {
   "cell_type": "markdown",
   "metadata": {},
   "source": [
    "###### Prediction for top 5 affected states"
   ]
  },
  {
   "cell_type": "code",
   "execution_count": null,
   "metadata": {},
   "outputs": [],
   "source": [
    "states_df[\"Days Since\"]=states_df.index-states_df.index[0]\n",
    "states_df[\"Days Since\"]=states_df[\"Days Since\"].dt.days\n",
    "\n",
    "results = pd.DataFrame()\n",
    "selected = pd.DataFrame()\n",
    "for i in df_india.sort_values('confirmed')[\"confirmed\"].index[-5:]:\n",
    "    model_scores=[]\n",
    "    #train-test split\n",
    "    train = states_df[states_df['State/UnionTerritory'] == i].iloc[:int(states_df[states_df['State/UnionTerritory'] == i].shape[0]*0.95)]\n",
    "    valid = states_df[states_df['State/UnionTerritory'] == i].iloc[int(states_df[states_df['State/UnionTerritory'] == i].shape[0]*0.95):]\n",
    "    \n",
    "    #Linear Regression model\n",
    "    lin_reg=LinearRegression(normalize=True)\n",
    "    lin_reg.fit(np.array(train[\"Days Since\"]).reshape(-1,1),np.array(train[\"Confirmed\"]).reshape(-1,1))\n",
    "    prediction_valid_linreg=lin_reg.predict(np.array(valid[\"Days Since\"]).reshape(-1,1))\n",
    "    model_scores.append(np.sqrt(mean_squared_error(valid[\"Confirmed\"],prediction_valid_linreg)))\n",
    "    \n",
    "    #Polynomial Regression\n",
    "    poly = PolynomialFeatures(degree = 10) \n",
    "    train_poly=poly.fit_transform(np.array(train[\"Days Since\"]).reshape(-1,1))\n",
    "    valid_poly=poly.fit_transform(np.array(valid[\"Days Since\"]).reshape(-1,1))\n",
    "    y=train[\"Confirmed\"]\n",
    "    linreg=LinearRegression(normalize=True)\n",
    "    linreg.fit(train_poly,y)\n",
    "    prediction_poly=linreg.predict(valid_poly)\n",
    "    rmse_poly=np.sqrt(mean_squared_error(valid[\"Confirmed\"],prediction_poly))\n",
    "    model_scores.append(rmse_poly)\n",
    "    \n",
    "    #Support Vector Machine Model Regressor\n",
    "    svm=SVR(C=1,degree=5,kernel='poly',epsilon=0.01)\n",
    "    svm.fit(np.array(train[\"Days Since\"]).reshape(-1,1),np.array(train[\"Confirmed\"]).reshape(-1,1))\n",
    "    prediction_valid_svm=svm.predict(np.array(valid[\"Days Since\"]).reshape(-1,1))\n",
    "    model_scores.append(np.sqrt(mean_squared_error(valid[\"Confirmed\"],prediction_valid_svm)))\n",
    "    \n",
    "    #Time Series Forecasting\n",
    "    \n",
    "    y_pred=valid.copy()\n",
    "    #Holt's Linear Model\n",
    "    holt=Holt(np.asarray(train[\"Confirmed\"])).fit(smoothing_level=0.1, smoothing_slope=1.0,optimized=False)\n",
    "    y_pred[\"Holt\"]=holt.forecast(len(valid))\n",
    "    model_scores.append(np.sqrt(mean_squared_error(y_pred[\"Confirmed\"],y_pred[\"Holt\"])))\n",
    "    \n",
    "    #Holt's Winter Model\n",
    "    y_pred=valid.copy()\n",
    "    es=ExponentialSmoothing(np.asarray(train['Confirmed']),seasonal_periods=4,trend='mul', seasonal='mul').fit()\n",
    "    y_pred[\"Holt's Winter Model\"]=es.forecast(len(valid))\n",
    "    model_scores.append(np.sqrt(mean_squared_error(y_pred[\"Confirmed\"],y_pred[\"Holt's Winter Model\"])))\n",
    "    \n",
    "    #AR Model (using AUTO ARIMA)\n",
    "    model_ar= auto_arima(train[\"Confirmed\"],trace=True, error_action='ignore', start_p=0,start_q=0,max_p=5,max_q=0,\n",
    "                   suppress_warnings=True,stepwise=False,seasonal=False)\n",
    "    model_ar.fit(train[\"Confirmed\"])\n",
    "    prediction_ar=model_ar.predict(len(valid))\n",
    "    y_pred[\"AR Model Prediction\"]=prediction_ar\n",
    "    model_scores.append(np.sqrt(mean_squared_error(y_pred[\"Confirmed\"],y_pred[\"AR Model Prediction\"])))\n",
    "    \n",
    "    #MA Model (using AUTO ARIMA)\n",
    "    model_ma= auto_arima(train[\"Confirmed\"],trace=True, error_action='ignore', start_p=0,start_q=0,max_p=0,max_q=5,\n",
    "                   suppress_warnings=True,stepwise=False,seasonal=False)\n",
    "    model_ma.fit(train[\"Confirmed\"])\n",
    "    prediction_ma=model_ma.predict(len(valid))\n",
    "    y_pred[\"MA Model Prediction\"]=prediction_ma\n",
    "    model_scores.append(np.sqrt(mean_squared_error(valid[\"Confirmed\"],prediction_ma)))\n",
    "    \n",
    "    #ARIMA Model (using AUTOARIMA)\n",
    "    model_arima= auto_arima(train[\"Confirmed\"],trace=True, error_action='ignore', start_p=1,start_q=1,max_p=3,max_q=3,\n",
    "                   suppress_warnings=True,stepwise=False,seasonal=False)\n",
    "    model_arima.fit(train[\"Confirmed\"])\n",
    "    prediction_arima=model_arima.predict(len(valid))\n",
    "    y_pred[\"ARIMA Model Prediction\"]=prediction_arima\n",
    "    model_scores.append(np.sqrt(mean_squared_error(valid[\"Confirmed\"],prediction_arima)))\n",
    "\n",
    "    #SARIMA Model (using AUTO ARIMA)\n",
    "    model_sarima= auto_arima(train[\"Confirmed\"],trace=True, error_action='ignore', \n",
    "                         start_p=0,start_q=0,max_p=3,max_q=3,m=7,\n",
    "                   suppress_warnings=True,stepwise=True,seasonal=True)\n",
    "    model_sarima.fit(train[\"Confirmed\"])\n",
    "    prediction_sarima=model_sarima.predict(len(valid))\n",
    "    y_pred[\"SARIMA Model Prediction\"]=prediction_sarima\n",
    "    model_scores.append(np.sqrt(mean_squared_error(y_pred[\"Confirmed\"],y_pred[\"SARIMA Model Prediction\"])))\n",
    "\n",
    "    Prophet Model \n",
    "    prophet_c=Prophet(interval_width=0.95,weekly_seasonality=True,)\n",
    "    prophet_confirmed=pd.DataFrame(zip(list(states_df[states_df['State/UnionTerritory'] == i].index),list(states_df[states_df['State/UnionTerritory'] == i][\"Confirmed\"])),columns=['ds','y'])\n",
    "    prophet_c.fit(prophet_confirmed)\n",
    "    forecast_c=prophet_c.make_future_dataframe(periods=17)\n",
    "    forecast_confirmed=forecast_c.copy()\n",
    "    confirmed_forecast=prophet_c.predict(forecast_c)\n",
    "    model_scores.append(np.sqrt(mean_squared_error(states_df[states_df['State/UnionTerritory'] == i][\"Confirmed\"],confirmed_forecast['yhat'].head(states_df[states_df['State/UnionTerritory'] == i].shape[0]))))\n",
    "#     print(prophet_c.plot(confirmed_forecast))\n",
    "#     print(prophet_c.plot_components(confirmed_forecast))\n",
    "    \n",
    "    model_names=[\"Linear Regression\",\"Polynomial Regression\",\"Support Vector Machine Regressor\",\"Holt's Linear\",\"Holt's Winter Model\",\n",
    "            \"Auto Regressive Model (AR)\",\"Moving Average Model (MA)\",\"ARIMA Model\",\"SARIMA Model\"]#,\"Facebook's Prophet Model\"]\n",
    "    model_summary=pd.DataFrame(zip(model_names,model_scores),columns=[\"Model Name\",\"Root Mean Squared Error\"]).sort_values([\"Root Mean Squared Error\"])\n",
    "    model_summary['State/UT'] = i\n",
    "    results = results.append(model_summary, ignore_index = True)\n",
    "    selected = selected.append(model_summary.iloc[0,:], ignore_index = True)"
   ]
  },
  {
   "cell_type": "code",
   "execution_count": null,
   "metadata": {},
   "outputs": [],
   "source": [
    "results"
   ]
  },
  {
   "cell_type": "code",
   "execution_count": null,
   "metadata": {},
   "outputs": [],
   "source": [
    "selected"
   ]
  },
  {
   "cell_type": "code",
   "execution_count": null,
   "metadata": {},
   "outputs": [],
   "source": []
  }
 ],
 "metadata": {
  "kernelspec": {
   "display_name": "Python 3",
   "language": "python",
   "name": "python3"
  },
  "language_info": {
   "codemirror_mode": {
    "name": "ipython",
    "version": 3
   },
   "file_extension": ".py",
   "mimetype": "text/x-python",
   "name": "python",
   "nbconvert_exporter": "python",
   "pygments_lexer": "ipython3",
   "version": "3.7.6"
  }
 },
 "nbformat": 4,
 "nbformat_minor": 2
}
