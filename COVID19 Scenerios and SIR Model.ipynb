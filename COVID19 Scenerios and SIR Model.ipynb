{
 "cells": [
  {
   "cell_type": "code",
   "execution_count": null,
   "metadata": {},
   "outputs": [],
   "source": [
    "import os\n",
    "import pandas as pd\n",
    "import numpy as np\n",
    "import plotly.graph_objects as go\n",
    "import plotly.express as px\n",
    "from plotly.graph_objs import *"
   ]
  },
  {
   "cell_type": "markdown",
   "metadata": {},
   "source": [
    "###### Links to the raw files for Covid-19 dataset provided by CSSEGIS JHU"
   ]
  },
  {
   "cell_type": "code",
   "execution_count": null,
   "metadata": {},
   "outputs": [],
   "source": [
    "confirmed_cases_file_link = 'https://raw.githubusercontent.com/CSSEGISandData/COVID-19/master/csse_covid_19_data/csse_covid_19_time_series/time_series_covid19_confirmed_global.csv'\n",
    "deaths_cases_file_link = 'https://raw.githubusercontent.com/CSSEGISandData/COVID-19/master/csse_covid_19_data/csse_covid_19_time_series/time_series_covid19_deaths_global.csv'\n",
    "recovered_cases_file_link = 'https://raw.githubusercontent.com/CSSEGISandData/COVID-19/master/csse_covid_19_data/csse_covid_19_time_series/time_series_covid19_recovered_global.csv'\n",
    "country_cases_file_link = 'https://raw.githubusercontent.com/CSSEGISandData/COVID-19/web-data/data/cases_country.csv'"
   ]
  },
  {
   "cell_type": "code",
   "execution_count": null,
   "metadata": {},
   "outputs": [],
   "source": [
    "#loading Dataset (https://github.com/CSSEGISandData/COVID-19/tree/master/csse_covid_19_data/csse_covid_19_time_series)\n",
    "confirmed_df = pd.read_csv(confirmed_cases_file_link)\n",
    "deaths_df = pd.read_csv(deaths_cases_file_link)\n",
    "recovered_df = pd.read_csv(recovered_cases_file_link)\n",
    "cases_country_df = pd.read_csv(country_cases_file_link)\n",
    "\n",
    "print(confirmed_df.shape , '|' , deaths_df.shape , '|', recovered_df.shape , '|', cases_country_df.shape )"
   ]
  },
  {
   "cell_type": "code",
   "execution_count": null,
   "metadata": {},
   "outputs": [],
   "source": [
    "#columns in 'confirmed_df' dataframe\n",
    "confirmed_df.columns"
   ]
  },
  {
   "cell_type": "code",
   "execution_count": null,
   "metadata": {
    "scrolled": true
   },
   "outputs": [],
   "source": [
    "confirmed_df.head()"
   ]
  },
  {
   "cell_type": "code",
   "execution_count": null,
   "metadata": {},
   "outputs": [],
   "source": [
    "confirmed_df[confirmed_df['Country/Region']=='Australia']"
   ]
  },
  {
   "cell_type": "code",
   "execution_count": null,
   "metadata": {},
   "outputs": [],
   "source": [
    "confirmed_df[confirmed_df['Country/Region']=='India']"
   ]
  },
  {
   "cell_type": "code",
   "execution_count": null,
   "metadata": {},
   "outputs": [],
   "source": [
    "confirmed_df['Country/Region'].nunique()"
   ]
  },
  {
   "cell_type": "code",
   "execution_count": null,
   "metadata": {},
   "outputs": [],
   "source": [
    "#columns in 'cases_country_df' dataframe\n",
    "cases_country_df.columns"
   ]
  },
  {
   "cell_type": "code",
   "execution_count": null,
   "metadata": {},
   "outputs": [],
   "source": [
    "cases_country_df.head()"
   ]
  },
  {
   "cell_type": "code",
   "execution_count": null,
   "metadata": {},
   "outputs": [],
   "source": [
    "cases_country_df.isna().sum()"
   ]
  },
  {
   "cell_type": "markdown",
   "metadata": {},
   "source": [
    "### EDA"
   ]
  },
  {
   "cell_type": "code",
   "execution_count": null,
   "metadata": {},
   "outputs": [],
   "source": [
    "global_data = cases_country_df.copy().drop(['Lat','Long_','Country_Region','Last_Update'], axis = 1)\n",
    "global_summary = pd.DataFrame(global_data.sum()).T\n",
    "global_summary.style.format(\"{:,.0f}\")"
   ]
  },
  {
   "cell_type": "markdown",
   "metadata": {},
   "source": [
    "###### For Chart 1 : Total Confirmed Covid-19 Cases (Globally)"
   ]
  },
  {
   "cell_type": "code",
   "execution_count": null,
   "metadata": {},
   "outputs": [],
   "source": [
    "confirmed_ts = confirmed_df.copy().drop(['Lat','Long','Country/Region','Province/State'],axis = 1)\n",
    "confirmed_ts_summary = confirmed_ts.sum()"
   ]
  },
  {
   "cell_type": "code",
   "execution_count": null,
   "metadata": {},
   "outputs": [],
   "source": [
    "cases_country_df[cases_country_df['Country_Region'] == 'India']"
   ]
  },
  {
   "cell_type": "code",
   "execution_count": null,
   "metadata": {},
   "outputs": [],
   "source": [
    "confirmed_ts_summary"
   ]
  },
  {
   "cell_type": "code",
   "execution_count": null,
   "metadata": {},
   "outputs": [],
   "source": [
    "fig_1 = go.Figure(data = go.Scatter(x = confirmed_ts_summary.index,y = confirmed_ts_summary.values, mode = 'lines+markers'))\n",
    "\n",
    "fig_1.update_layout(title = 'Total Confirmed Covid-19 Cases (Globally)', yaxis_title = 'Confirmed cases', xaxis_tickangle = 315, plot_bgcolor='rgba(0,0,0,0)')\n",
    "\n",
    "fig_1.show()"
   ]
  },
  {
   "cell_type": "markdown",
   "metadata": {},
   "source": [
    "###### Defining a template plot function and color array"
   ]
  },
  {
   "cell_type": "code",
   "execution_count": null,
   "metadata": {},
   "outputs": [],
   "source": [
    "# Initializing color Array to be used access the analysis\n",
    "color_arr = px.colors.qualitative.Dark24"
   ]
  },
  {
   "cell_type": "code",
   "execution_count": null,
   "metadata": {},
   "outputs": [],
   "source": [
    "def draw_plot(ts_array, ts_label, title, colors, mode_size, line_size, x_axis_title, y_axis_title, tickangle = 0, yaxis_type='', additional_annotations=[]):\n",
    "    #Initialize figure\n",
    "    fig = go.Figure()\n",
    "    #add all traces\n",
    "    for index,ts in enumerate(ts_array):\n",
    "        fig.add_traces(go.Scatter(x = ts.index,\n",
    "                                  y = ts.values,\n",
    "                                  name = ts_label[index],\n",
    "                                  line = dict(color = colors[index],width = line_size[index]),connectgaps=True))\n",
    "    #base x_axis prop.\n",
    "    x_axis_dict = dict(showline = True,\n",
    "                     showgrid = True,\n",
    "                     showticklabels = True,\n",
    "                     linecolor = 'rgb(204, 204, 204)',\n",
    "                     linewidth = 2,\n",
    "                     ticks = 'outside',\n",
    "                     tickfont = dict(family = 'Arial',size = 12, color = 'rgb(82,82,82)'))\n",
    "    #setting x_axis params\n",
    "    if x_axis_title:\n",
    "        x_axis_dict['title'] = x_axis_title\n",
    "        \n",
    "    if tickangle >0:\n",
    "        x_axis_dict['tickangle'] = tickangle\n",
    "        \n",
    "    #base y_axis prop.\n",
    "    y_axis_dict = dict(showline = True,\n",
    "                     showgrid = True,\n",
    "                     showticklabels = True,\n",
    "                     linecolor = 'rgb(204, 204, 204)',\n",
    "                     linewidth = 2)\n",
    "    #setting my_axis params\n",
    "    if yaxis_type != '':\n",
    "        y_axis_dict['type'] = yaxis_type\n",
    "        \n",
    "    if y_axis_title:\n",
    "        y_axis_dict['title'] = y_axis_title\n",
    "    \n",
    "    #updating the layout\n",
    "    fig.update_layout(xaxis = x_axis_dict,\n",
    "                     yaxis = y_axis_dict,\n",
    "                     autosize = True,\n",
    "                     margin = dict(autoexpand=True,l=100,r=20,t=110),\n",
    "                     showlegend = True,\n",
    "                     plot_bgcolor = 'rgba(0,0,0,0)',\n",
    "                    legend=dict(x=0, y=1)\n",
    "                     )\n",
    "    \n",
    "    #base annotations for any graph\n",
    "    annotations = []\n",
    "    #Title\n",
    "    annotations.append(dict(xref='paper',yref='paper',x=0.0,y=1.05,xanchor='left',yanchor='bottom',\n",
    "                           text = title,\n",
    "                           font=dict(family = 'Arial',size = 16, color = 'rgb(37,37,37)'),showarrow=False))\n",
    "    \n",
    "    #adding annotations in params\n",
    "    if len(additional_annotations) > 0:\n",
    "        annotations.append(additional_annotations)\n",
    "        \n",
    "    #updating the layout\n",
    "    fig.update_layout(annotations=annotations)\n",
    "    \n",
    "    return fig"
   ]
  },
  {
   "cell_type": "markdown",
   "metadata": {},
   "source": [
    "###### For Chart 2 : Covid-19 Case Status"
   ]
  },
  {
   "cell_type": "code",
   "execution_count": null,
   "metadata": {},
   "outputs": [],
   "source": [
    "confirmed_agg_ts = confirmed_df.copy().drop(['Lat','Long','Country/Region','Province/State'],axis = 1).sum()\n",
    "death_agg_ts = deaths_df.copy().drop(['Lat','Long','Country/Region','Province/State'],axis = 1).sum()\n",
    "recovered_agg_ts = recovered_df.copy().drop(['Lat','Long','Country/Region','Province/State'],axis = 1).sum()\n",
    "\n",
    "#There is no time series dat for the active cases,therefore it needs to be engineered seperately\n",
    "active_agg_ts = pd.Series(data = np.array([x1-x2-x3 for (x1, x2, x3) in zip(confirmed_agg_ts.values, death_agg_ts.values, recovered_agg_ts.values )]), index = confirmed_agg_ts.index)\n",
    "\n",
    "#Plot and add traces for all the aggregated timeseries"
   ]
  },
  {
   "cell_type": "code",
   "execution_count": null,
   "metadata": {},
   "outputs": [],
   "source": [
    "ts_array = [confirmed_agg_ts, active_agg_ts, recovered_agg_ts, death_agg_ts]\n",
    "labels = ['Confirmed', 'Active','Recovered','Deaths']\n",
    "colors = [color_arr[0],color_arr[1],color_arr[2],color_arr[3]]\n",
    "mode_size = [8,8,12,8]\n",
    "line_size = [2,2,4,2]\n",
    "\n",
    "#calling the draw.plot function defined above\n",
    "fig_2 = draw_plot(ts_array = ts_array,\n",
    "                 ts_label = labels,\n",
    "                 title = '',\n",
    "                 colors = colors, mode_size = mode_size,\n",
    "                 line_size = line_size,\n",
    "                 x_axis_title = 'Date',\n",
    "                 y_axis_title = 'Case Count',\n",
    "                 tickangle = 315,\n",
    "                 yaxis_type = '',additional_annotations =[])\n",
    "\n",
    "fig_2.show()"
   ]
  },
  {
   "cell_type": "code",
   "execution_count": null,
   "metadata": {},
   "outputs": [],
   "source": [
    "a = pd.DataFrame(confirmed_agg_ts).rename(columns = {0:'Confirmed'}).reset_index().rename(columns = {'index':'Date'})\n",
    "b = pd.DataFrame(active_agg_ts).rename(columns = {0:'Active'}).reset_index().rename(columns = {'index':'Date'})\n",
    "c = pd.DataFrame(recovered_agg_ts).rename(columns = {0:'Recovered'}).reset_index().rename(columns = {'index':'Date'})\n",
    "d = pd.DataFrame(death_agg_ts).rename(columns = {0:'Deaths'}).reset_index().rename(columns = {'index':'Date'})\n",
    "df = a.merge(b, on='Date', how = 'left')\n",
    "df = df.merge(c,on='Date', how = 'left')\n",
    "df = df.merge(d,on='Date', how = 'left')\n",
    "df"
   ]
  },
  {
   "cell_type": "code",
   "execution_count": null,
   "metadata": {},
   "outputs": [],
   "source": [
    "a"
   ]
  },
  {
   "cell_type": "code",
   "execution_count": null,
   "metadata": {},
   "outputs": [],
   "source": [
    "a = pd.DataFrame(confirmed_agg_ts).rename(columns = {0:'Confirmed'}).reset_index().rename(columns = {'index':'Date'})\n",
    "b = pd.DataFrame(active_agg_ts).rename(columns = {0:'Active'}).reset_index().rename(columns = {'index':'Date'})\n",
    "c = pd.DataFrame(recovered_agg_ts).rename(columns = {0:'Recovered'}).reset_index().rename(columns = {'index':'Date'})\n",
    "d = pd.DataFrame(death_agg_ts).rename(columns = {0:'Deaths'}).reset_index().rename(columns = {'index':'Date'})\n",
    "df = a.merge(b, on='Date', how = 'left')\n",
    "df = df.merge(c,on='Date', how = 'left')\n",
    "df = df.merge(d,on='Date', how = 'left')\n",
    "df.index = df.Date\n",
    "df = df.drop(columns = 'Date')\n",
    "\n",
    "#display\n",
    "fig = go.Figure()\n",
    "fig.add_trace(go.Scatter(\n",
    "    x=df.index.tolist(), y=df['Deaths'],\n",
    "    hoverinfo='x+y',\n",
    "    mode='lines+markers',\n",
    "     line_color='red',\n",
    "    stackgroup='one',\n",
    "    name = \"Deaths (Total =\" + str(df[\"Deaths\"].max()) + ')',\n",
    "))\n",
    "\n",
    "fig.add_trace(go.Scatter(x=df.index.tolist(), y=df['Recovered'],\n",
    "    hoverinfo='x+y',\n",
    "    mode='lines+markers',\n",
    "    line_color='green',\n",
    "    stackgroup='one',\n",
    "    name = \"Recovered (Total =\" + str(df[\"Recovered\"].max()) + ')',                \n",
    "))\n",
    "fig.add_trace(go.Scatter( x=df.index.tolist(), y=df['Confirmed'],\n",
    "    hoverinfo='x+y',\n",
    "    mode='lines+markers',\n",
    "    line_color='grey',\n",
    "    stackgroup='one',\n",
    "    name = \"Confirmed (Total =\" + str(df[\"Confirmed\"].max()) + ')',\n",
    "))\n",
    "\n",
    "fig.update_layout(template = 'plotly_white',yaxis=dict(title='Number of cases' ),xaxis=(dict(title='Date (' + str(df.index.min().date()) + ' to ' + str(df.index.max().date())+ ')', showticklabels=False)), legend=dict(x=0, y=1))\n",
    "fig.show()"
   ]
  },
  {
   "cell_type": "code",
   "execution_count": null,
   "metadata": {},
   "outputs": [],
   "source": [
    "# source : https://commons.wikipedia.org/wiki/File:COVID-19_India_Total_Cases_Animated_Map.gif\n",
    "from IPython.display import HTML\n",
    "HTML('<img src=\"https://upload.wikimedia.org/wikipedia/commons/9/95/COVID-19_India_Total_Cases_Animated_Map.gif\" height =\"600\" width=\"400\">')"
   ]
  },
  {
   "cell_type": "markdown",
   "metadata": {},
   "source": [
    "###### For Country Level Drill Down"
   ]
  },
  {
   "cell_type": "code",
   "execution_count": null,
   "metadata": {
    "scrolled": true
   },
   "outputs": [],
   "source": [
    "cases_country_df.copy().drop(['Lat','Long_','Last_Update','People_Tested','People_Hospitalized'],axis=1).sort_values('Confirmed',ascending = False).reset_index(drop=True).style.bar(\n",
    "align='left',width=98,color='orange')"
   ]
  },
  {
   "cell_type": "code",
   "execution_count": null,
   "metadata": {},
   "outputs": [],
   "source": [
    "cases_country_df.copy().drop(['Lat','Long_','Last_Update','People_Tested','People_Hospitalized'],axis=1).sort_values('Confirmed',ascending = False).reset_index(drop=True).head(10)"
   ]
  },
  {
   "cell_type": "code",
   "execution_count": null,
   "metadata": {
    "scrolled": true
   },
   "outputs": [],
   "source": [
    "cases_country_df.copy().drop(['Lat','Long_','Last_Update','People_Tested','People_Hospitalized'],axis=1).sort_values('Recovered',ascending = False).reset_index(drop=True).style.bar(\n",
    "align='left',width=98,color='lightgreen')"
   ]
  },
  {
   "cell_type": "code",
   "execution_count": null,
   "metadata": {
    "scrolled": true
   },
   "outputs": [],
   "source": [
    "cases_country_df.copy().drop(['Lat','Long_','Last_Update','People_Tested','People_Hospitalized'],axis=1).sort_values('Deaths',ascending = False).reset_index(drop=True).style.bar(\n",
    "align='left',width=98,color='red')"
   ]
  },
  {
   "cell_type": "code",
   "execution_count": null,
   "metadata": {
    "scrolled": true
   },
   "outputs": [],
   "source": [
    "cases_country_df.copy().drop(['Lat','Long_','Last_Update','People_Tested','People_Hospitalized'],axis=1).sort_values('Active',ascending = False).reset_index(drop=True).style.bar(\n",
    "align='left',width=98,color='purple')"
   ]
  },
  {
   "cell_type": "code",
   "execution_count": null,
   "metadata": {},
   "outputs": [],
   "source": [
    "# for recovery rate\n",
    "cases_country_df1 = cases_country_df.copy()\n",
    "cases_country_df['%Recovered'] = cases_country_df['Recovered'] *100 / cases_country_df['Confirmed']\n",
    "\n",
    "cases_country_df.copy().drop(['Lat','Long_','Last_Update','People_Tested','People_Hospitalized'],axis=1).sort_values('Confirmed',ascending = False).reset_index(drop=True).style.bar(\n",
    "align='left',width=98,color='green')"
   ]
  },
  {
   "cell_type": "code",
   "execution_count": null,
   "metadata": {},
   "outputs": [],
   "source": [
    "# del cases_country_df['%Deaths']"
   ]
  },
  {
   "cell_type": "code",
   "execution_count": null,
   "metadata": {},
   "outputs": [],
   "source": [
    "((100*cases_country_df['Recovered'].sum())/cases_country_df['Confirmed'].sum()).round(2)"
   ]
  },
  {
   "cell_type": "code",
   "execution_count": null,
   "metadata": {},
   "outputs": [],
   "source": [
    "((100*cases_country_df['Deaths'].sum())/cases_country_df['Confirmed'].sum()).round(2)"
   ]
  },
  {
   "cell_type": "code",
   "execution_count": null,
   "metadata": {},
   "outputs": [],
   "source": [
    "cases_country_df"
   ]
  },
  {
   "cell_type": "markdown",
   "metadata": {},
   "source": [
    "#### Focus : India"
   ]
  },
  {
   "cell_type": "markdown",
   "metadata": {},
   "source": [
    "###### For Chart 3: 'Covid-19 Case' Trend in India"
   ]
  },
  {
   "cell_type": "code",
   "execution_count": null,
   "metadata": {},
   "outputs": [],
   "source": [
    "confirmed_India_ts = confirmed_df[confirmed_df['Country/Region']=='India']\n",
    "confirmed_India_ts = confirmed_India_ts.drop(['Lat','Long','Country/Region','Province/State'],axis = 1).reset_index(drop=True).sum()\n",
    "confirmed_India_ts.index = pd.to_datetime(confirmed_India_ts.index)\n",
    "\n",
    "deaths_India_ts = deaths_df[deaths_df['Country/Region']=='India']\n",
    "deaths_India_ts = deaths_India_ts.drop(['Lat','Long','Country/Region','Province/State'],axis = 1).reset_index(drop=True).sum()\n",
    "deaths_India_ts.index = pd.to_datetime(deaths_India_ts.index)\n",
    "\n",
    "recovered_India_ts = recovered_df[recovered_df['Country/Region']=='India']\n",
    "recovered_India_ts = recovered_India_ts.drop(['Lat','Long','Country/Region','Province/State'],axis = 1).reset_index(drop=True).sum()\n",
    "recovered_India_ts.index = pd.to_datetime(recovered_India_ts.index)\n",
    "\n",
    "active_India_ts = pd.Series(data = np.array([x1-x2-x3 for (x1, x2, x3) in zip(confirmed_India_ts.values, deaths_India_ts.values, recovered_India_ts.values )]), index = confirmed_India_ts.index)"
   ]
  },
  {
   "cell_type": "code",
   "execution_count": null,
   "metadata": {},
   "outputs": [],
   "source": [
    "ts_array = [confirmed_India_ts, active_India_ts, recovered_India_ts, deaths_India_ts]\n",
    "labels = ['Confirmed', 'Active','Recovered','Deaths']\n",
    "colors = [color_arr[0],color_arr[1],color_arr[2],color_arr[3]]\n",
    "mode_size = [8,8,12,8]\n",
    "line_size = [2,2,4,2]\n",
    "\n",
    "#calling the draw.plot function defined above\n",
    "fig_3 = draw_plot(ts_array = ts_array,\n",
    "                 ts_label = labels,\n",
    "                  title = '',\n",
    "                 colors = colors, mode_size = mode_size,\n",
    "                 line_size = line_size,\n",
    "                 x_axis_title = 'Date',\n",
    "                 y_axis_title = 'Case Count',\n",
    "                 tickangle = 315,\n",
    "                 yaxis_type = '',additional_annotations =[])\n",
    "\n",
    "fig_3.show()"
   ]
  },
  {
   "cell_type": "code",
   "execution_count": null,
   "metadata": {},
   "outputs": [],
   "source": [
    "a = pd.DataFrame(confirmed_India_ts).rename(columns = {0:'Confirmed'}).reset_index().rename(columns = {'index':'Date'})\n",
    "b = pd.DataFrame(active_India_ts).rename(columns = {0:'Active'}).reset_index().rename(columns = {'index':'Date'})\n",
    "c = pd.DataFrame(recovered_India_ts).rename(columns = {0:'Recovered'}).reset_index().rename(columns = {'index':'Date'})\n",
    "d = pd.DataFrame(deaths_India_ts).rename(columns = {0:'Deaths'}).reset_index().rename(columns = {'index':'Date'})\n",
    "df = a.merge(b, on='Date', how = 'left')\n",
    "df = df.merge(c,on='Date', how = 'left')\n",
    "df = df.merge(d,on='Date', how = 'left')\n",
    "df.index = df.Date\n",
    "df = df.drop(columns = 'Date')\n",
    "df"
   ]
  },
  {
   "cell_type": "code",
   "execution_count": null,
   "metadata": {},
   "outputs": [],
   "source": [
    "a = pd.DataFrame(confirmed_India_ts).rename(columns = {0:'Confirmed'}).reset_index().rename(columns = {'index':'Date'})\n",
    "b = pd.DataFrame(active_India_ts).rename(columns = {0:'Active'}).reset_index().rename(columns = {'index':'Date'})\n",
    "c = pd.DataFrame(recovered_India_ts).rename(columns = {0:'Recovered'}).reset_index().rename(columns = {'index':'Date'})\n",
    "d = pd.DataFrame(death_India_ts).rename(columns = {0:'Deaths'}).reset_index().rename(columns = {'index':'Date'})\n",
    "df = a.merge(b, on='Date', how = 'left')\n",
    "df = df.merge(c,on='Date', how = 'left')\n",
    "df = df.merge(d,on='Date', how = 'left')\n",
    "df.index = df.Date\n",
    "df = df.drop(columns = 'Date')\n",
    "\n",
    "#display\n",
    "fig = go.Figure()\n",
    "fig.add_trace(go.Scatter(\n",
    "    x=df.index.tolist(), y=df['Deaths'],\n",
    "    hoverinfo='x+y',\n",
    "    mode='lines+markers',\n",
    "     line_color='red',\n",
    "    stackgroup='one',\n",
    "    name = \"Deaths (Total =\" + str(df[\"Deaths\"].max()) + ')',\n",
    "))\n",
    "\n",
    "fig.add_trace(go.Scatter(x=df.index.tolist(), y=df['Recovered'],\n",
    "    hoverinfo='x+y',\n",
    "    mode='lines+markers',\n",
    "    line_color='green',\n",
    "    stackgroup='one',\n",
    "    name = \"Recovered (Total =\" + str(df[\"Recovered\"].max()) + ')',                \n",
    "))\n",
    "fig.add_trace(go.Scatter( x=df.index.tolist(), y=df['Confirmed'],\n",
    "    hoverinfo='x+y',\n",
    "    mode='lines+markers',\n",
    "    line_color='grey',\n",
    "    stackgroup='one',\n",
    "    name = \"Confirmed (Total =\" + str(df[\"Confirmed\"].max()) + ')',\n",
    "))\n",
    "\n",
    "fig.update_layout(template = 'plotly_white',yaxis=dict(title='Number of cases' ),xaxis=(dict(title='Date (' + str(df.index.min().date()) + ' to ' + str(df.index.max().date())+ ')', showticklabels=False)), legend=dict(x=0, y=1))\n",
    "fig.show()"
   ]
  },
  {
   "cell_type": "markdown",
   "metadata": {},
   "source": [
    "###### Chart 4 : Covid-19 Transmission Timeline in India - In different LockDown Phases"
   ]
  },
  {
   "cell_type": "code",
   "execution_count": null,
   "metadata": {},
   "outputs": [],
   "source": [
    "# Transmission Timeline in India in Different lockdown phases\n",
    "# LockDown 1.O = '03/25/2020' - '04/14/2020'\n",
    "# LockDown 2.O = '04/15/2020' - '05/03/2020'\n",
    "# LockDown 3.O = '05/04/2020' - '05/17/2020'\n",
    "# LockDown 4.O = '05/18/2020' - '05/31/2020'\n",
    "\n",
    "def draw_plot1(ts_array, ts_label, title, colors, mode_size, line_size, x_axis_title, y_axis_title, tickangle = 0, yaxis_type='', additional_annotations=[]):\n",
    "    #Initialize figure\n",
    "    fig = go.Figure()\n",
    "    #add all traces\n",
    "    for index,ts in enumerate(ts_array):\n",
    "        fig.add_traces(go.Scatter(x = ts.index,\n",
    "                                  y = ts.values,\n",
    "                                  name = ts_label[index],\n",
    "                                  line = dict(color = colors[index],width = line_size[index]),connectgaps=True, mode = 'lines+markers'))\n",
    "    #base x_axis prop.\n",
    "    x_axis_dict = dict(showline = True,\n",
    "                     showgrid = True,\n",
    "                     showticklabels = True,\n",
    "                     linecolor = 'rgb(204, 204, 204)',\n",
    "                     linewidth = 2,\n",
    "                     ticks = 'outside',\n",
    "                     tickfont = dict(family = 'Arial',size = 12, color = 'rgb(82,82,82)'))\n",
    "    #setting x_axis params\n",
    "    if x_axis_title:\n",
    "        x_axis_dict['title'] = x_axis_title\n",
    "        \n",
    "    if tickangle >0:\n",
    "        x_axis_dict['tickangle'] = tickangle\n",
    "        \n",
    "    #base y_axis prop.\n",
    "    y_axis_dict = dict(showline = True,\n",
    "                     showgrid = True,\n",
    "                     showticklabels = True,\n",
    "                     linecolor = 'rgb(204, 204, 204)',\n",
    "                     linewidth = 2)\n",
    "    #setting my_axis params\n",
    "    if yaxis_type != '':\n",
    "        y_axis_dict['type'] = yaxis_type\n",
    "        \n",
    "    if y_axis_title:\n",
    "        y_axis_dict['title'] = y_axis_title\n",
    "    \n",
    "    #updating the layout\n",
    "    fig.update_layout(xaxis = x_axis_dict,\n",
    "                     yaxis = y_axis_dict,\n",
    "                     autosize = True,\n",
    "                     margin = dict(autoexpand=True,l=100,r=20,t=110),\n",
    "                     showlegend = True,\n",
    "                     plot_bgcolor = 'rgba(0,0,0,0)',\n",
    "                     legend=dict(x=0, y=1)\n",
    "                     )\n",
    "    \n",
    "    #base annotations for any graph\n",
    "    annotations = []\n",
    "    #Title\n",
    "    annotations.append(dict(xref='paper',yref='paper',x=0.0,y=1.05,xanchor='left',yanchor='bottom',\n",
    "                           text = title,\n",
    "                           font=dict(family = 'Arial',size = 16, color = 'rgb(37,37,37)'),showarrow=False))\n",
    "    \n",
    "    #adding annotations in params\n",
    "    if len(additional_annotations) > 0:\n",
    "        annotations.append(additional_annotations)\n",
    "        \n",
    "    #updating the layout\n",
    "    fig.update_layout(annotations=annotations)\n",
    "    \n",
    "    return fig\n",
    "\n",
    "\n",
    "Phase = 4\n",
    "\n",
    "if Phase == 1:\n",
    "    start_date = '2020-03-25'\n",
    "    end_date = '2020-04-14'    \n",
    "elif Phase == 2:\n",
    "    start_date = '2020-04-15'\n",
    "    end_date = '2020-05-03'\n",
    "elif Phase == 3:\n",
    "    start_date = '2020-05-04'\n",
    "    end_date = '2020-05-17'\n",
    "elif Phase == 4:\n",
    "    start_date = '2020-05-18'\n",
    "    end_date = '2020-05-31'\n",
    "\n",
    "\n",
    "a = confirmed_India_ts[confirmed_India_ts.index >= start_date]\n",
    "confirmed_India_ts1 = a[a.index <= end_date]\n",
    "del a\n",
    "a = active_India_ts[active_India_ts.index >= start_date]\n",
    "active_India_ts1 = a[a.index <= end_date]\n",
    "del a\n",
    "a = recovered_India_ts[recovered_India_ts.index >= start_date]\n",
    "recovered_India_ts1 = a[a.index <= end_date]\n",
    "del a\n",
    "a = deaths_India_ts[deaths_India_ts.index >= start_date]\n",
    "deaths_India_ts1 = a[a.index <= end_date]\n",
    "del a\n",
    "\n",
    "# confirmed_India_ts1 = confirmed_India_ts.loc[(confirmed_India_ts[confirmed_India_ts.index >= start_date]) & (confirmed_India_ts[confirmed_India_ts.index <= end_date])]\n",
    "# active_India_ts1 = active_India_ts.loc[(active_India_ts[active_India_ts.index >= start_date]) & (active_India_ts[active_India_ts.index <= end_date])]\n",
    "# recovered_India_ts1 = recovered_India_ts.loc[(recovered_India_ts[recovered_India_ts.index >= start_date]) & (recovered_India_ts[recovered_India_ts.index <= end_date])]\n",
    "# deaths_India_ts1 = deaths_India_ts.loc[(deaths_India_ts[deaths_India_ts.index >= start_date]) & (deaths_India_ts[deaths_India_ts.index <= end_date])]\n",
    "line_size = [2,2,2,2]\n",
    "ts_array1 = [confirmed_India_ts1, active_India_ts1, recovered_India_ts1, deaths_India_ts1]\n",
    "fig_4 = draw_plot1(ts_array = ts_array1,\n",
    "                 ts_label = labels,\n",
    "                  title = '',\n",
    "                 colors = colors, mode_size = mode_size,\n",
    "                 line_size = line_size,\n",
    "                 x_axis_title = 'Date',\n",
    "                 y_axis_title = 'Case Count',\n",
    "                 tickangle = 315,\n",
    "                 yaxis_type = '',additional_annotations =[])\n",
    "\n",
    "fig_4.show()"
   ]
  },
  {
   "cell_type": "markdown",
   "metadata": {},
   "source": [
    "###### Chart 5 : Covid-19 Transmission in India (Semi-Log Plot)"
   ]
  },
  {
   "cell_type": "code",
   "execution_count": null,
   "metadata": {},
   "outputs": [],
   "source": [
    "mode_size = [8,8,12,8]\n",
    "line_size = [4,2,2,2]\n",
    "\n",
    "fig_5 = draw_plot(ts_array = ts_array,\n",
    "                 ts_label = labels,\n",
    "                  title = '',\n",
    "                 colors = colors, mode_size = mode_size,\n",
    "                 line_size = line_size,\n",
    "                 x_axis_title = 'Date',\n",
    "                 y_axis_title = 'Case Count',\n",
    "                 tickangle = 315,\n",
    "                 yaxis_type = 'log',additional_annotations =[])\n",
    "\n",
    "fig_5.show()"
   ]
  },
  {
   "cell_type": "markdown",
   "metadata": {},
   "source": [
    "#### Modelling & Prediction"
   ]
  },
  {
   "cell_type": "markdown",
   "metadata": {},
   "source": [
    "###### SIR Model for Spread of Disease -- The Differential equation Model"
   ]
  },
  {
   "cell_type": "code",
   "execution_count": null,
   "metadata": {},
   "outputs": [],
   "source": [
    "from scipy.integrate import solve_ivp\n",
    "from scipy.optimize import minimize\n",
    "import matplotlib.pyplot as plt\n",
    "from datetime import timedelta, datetime"
   ]
  },
  {
   "cell_type": "code",
   "execution_count": null,
   "metadata": {},
   "outputs": [],
   "source": [
    "START_DATE = {\n",
    "#     'Italy' : '1/31/20',\n",
    "    'India' : '1/30/20' \n",
    "}\n",
    "class Learner(object):\n",
    "    def __init__(self,country,loss,start_date = '1/22/20', predict_range = 366, s_O = 1000000, i_O = 2, r_O = 10):\n",
    "        self.country = country\n",
    "        self.loss = loss\n",
    "        self.start_date = start_date\n",
    "        self.predict_range = predict_range\n",
    "        self.s_O = s_O\n",
    "        self.i_O = i_O\n",
    "        self.r_O = r_O\n",
    "        \n",
    "    def load_confirmed(self, country):\n",
    "        df = pd.read_csv(confirmed_cases_file_link)\n",
    "        df= df.drop(['Province/State'],axis = 1)\n",
    "        country_df = df[df['Country/Region'] == country]\n",
    "        return country_df.iloc[0].loc[self.start_date:]\n",
    "    \n",
    "    def load_recovered(self, country):\n",
    "        df = pd.read_csv(recovered_cases_file_link)\n",
    "        df= df.drop(['Province/State'],axis = 1)\n",
    "        country_df = df[df['Country/Region'] == country]\n",
    "        return country_df.iloc[0].loc[self.start_date:]\n",
    "\n",
    "    def load_deaths(self, country):\n",
    "        df = pd.read_csv(deaths_cases_file_link)\n",
    "        df= df.drop(['Province/State'],axis = 1)\n",
    "        country_df = df[df['Country/Region'] == country]\n",
    "        return country_df.iloc[0].loc[self.start_date:]\n",
    "    \n",
    "    def extend_index(self, index, new_size):\n",
    "        values = index.values\n",
    "        current = datetime.strptime(index[-1], '%m/%d/%y')\n",
    "        while len(values) < new_size:\n",
    "            current = current + timedelta(days=1)\n",
    "            values = np.append(values, datetime.strftime(current, '%m/%d/%y'))\n",
    "        return values\n",
    "    \n",
    "    def predict(self, beta, gamma, data, recovered, death, country, s_O, i_O, r_O):\n",
    "        \n",
    "        new_index = self.extend_index(data.index, self.predict_range)\n",
    "        size = len(new_index)\n",
    "        def SIR(t, y):\n",
    "            S= y[0]\n",
    "            I = y[1]\n",
    "            R = y[2]\n",
    "            return [-beta*S*I , beta*S*I-gamma*I , gamma*I]\n",
    "        extended_actual = np.concatenate((data.values, [None] * (size - len(data.values))))\n",
    "        extended_recovered = np.concatenate((recovered.values, [None] * (size - len(recovered.values))))\n",
    "        extended_death = np.concatenate((death.values, [None] * (size - len(death.values))))\n",
    "        return new_index, extended_actual, extended_recovered, extended_death, solve_ivp(SIR, [0,size], [s_O, i_O, r_O], t_eval = np.arange(0,size,1))\n",
    "    \n",
    "    def train(self):\n",
    "        recovered = self.load_recovered(self.country)\n",
    "        death = self.load_deaths(self.country)\n",
    "        data = (self.load_confirmed(self.country) - recovered - death)\n",
    "        \n",
    "        optimal = minimize(loss, [0.001,0.001], args=(data, recovered, self.s_O, self.i_O, self.r_O), method = 'L-BFGS-B', bounds = [(0.00000001,0.4), (0.00000001,0.4)])\n",
    "        print(optimal)\n",
    "        beta, gamma = optimal.x\n",
    "        new_index, extended_actual, extended_recovered, extended_death, prediction = self.predict(beta, gamma, data, recovered, death, self.country, self.s_O, self.i_O, self.r_O)\n",
    "        df= pd.DataFrame({'Infected data' : extended_death, 'Recovered data' : extended_recovered, 'Death data' : extended_death, 'Susceptible' : prediction.y[0], 'Infected' : prediction.y[1], 'Recovered' : prediction.y[2]}, index = new_index)\n",
    "        #save results to csv\n",
    "        df.to_csv(f\"{self.country}.csv\")\n",
    "        fig, ax = plt.subplots(figsize=(15,10))\n",
    "        ax.set_title(self.country)\n",
    "        df.plot(ax=ax)\n",
    "        print(f\"country={self.country}, beta = {beta:.8f}, gamma = {gamma:.8f}, r_O:{(beta/gamma):.8f}\")\n",
    "        fig.savefig(f\"{self.country}.png\")\n",
    "        \n",
    "        return df, fig"
   ]
  },
  {
   "cell_type": "code",
   "execution_count": null,
   "metadata": {},
   "outputs": [],
   "source": [
    "def loss(point, data, recovered, s_O, i_O, r_O):\n",
    "    size = len(data)\n",
    "    beta, gamma = point\n",
    "    def SIR(t,y):\n",
    "        S = y[0]\n",
    "        I = y[1]\n",
    "        R = y[2]\n",
    "        return [-beta*S*I , beta*S*I-gamma*I , gamma*I]\n",
    "    solution = solve_ivp(SIR, [0,size], [s_O,i_O,r_O], t_eval = np.arange(0,size,1), vectorized = True)\n",
    "    l1 = np.sqrt(np.mean((solution.y[1] - data)**2))\n",
    "    l2 = np.sqrt(np.mean((solution.y[2] - data)**2))\n",
    "    alpha = 0.1\n",
    "    return alpha*l1 + (1-alpha)*l2"
   ]
  },
  {
   "cell_type": "markdown",
   "metadata": {},
   "source": [
    "###### For Italy"
   ]
  },
  {
   "cell_type": "code",
   "execution_count": null,
   "metadata": {},
   "outputs": [],
   "source": [
    "# italy_learner = Learner(country = 'Italy', loss = loss)"
   ]
  },
  {
   "cell_type": "code",
   "execution_count": null,
   "metadata": {},
   "outputs": [],
   "source": [
    "# italy_df, italy_fig = italy_learner.train()"
   ]
  },
  {
   "cell_type": "markdown",
   "metadata": {},
   "source": [
    "###### For India"
   ]
  },
  {
   "cell_type": "code",
   "execution_count": null,
   "metadata": {},
   "outputs": [],
   "source": [
    "india_learner = Learner(country='India', loss = loss, i_O = 3)\n",
    "#as there were only 3 in february"
   ]
  },
  {
   "cell_type": "code",
   "execution_count": null,
   "metadata": {},
   "outputs": [],
   "source": [
    "india_df, india_fig = india_learner.train()"
   ]
  },
  {
   "cell_type": "markdown",
   "metadata": {},
   "source": [
    "###### Loading the saved results from the SIR model"
   ]
  },
  {
   "cell_type": "code",
   "execution_count": null,
   "metadata": {},
   "outputs": [],
   "source": [
    "india_sir = pd.read_csv('/Users/apple/India.csv')"
   ]
  },
  {
   "cell_type": "code",
   "execution_count": null,
   "metadata": {
    "scrolled": true
   },
   "outputs": [],
   "source": [
    "india_sir = india_sir.rename(columns = {'Unnamed: 0':'Datetime'})\n",
    "india_sir.index = india_sir.Datetime\n",
    "india_sir = india_sir.drop(columns = ['Datetime'])\n",
    "india_sir.head()"
   ]
  },
  {
   "cell_type": "code",
   "execution_count": null,
   "metadata": {},
   "outputs": [],
   "source": [
    "def plot_sir_prediction(title, df_sir, remove_series=[], yaxis_type='',yaxis_title=''):\n",
    "    fig = go.Figure()\n",
    "    title = title\n",
    "    labels = ['Infected data','Recovered data','Death data','Susceptible','Infected','Recovered']\n",
    "    colors = [color_arr[0], color_arr[9], color_arr[3], color_arr[8], color_arr[10], color_arr[13]]\n",
    "    line_size = [2,2,2,2,2,2]\n",
    "    \n",
    "    for index, data_series in enumerate(labels):\n",
    "        if data_series not in remove_series:\n",
    "            fig.add_trace(go.Scatter(x = df_sir.index,\n",
    "                                    y = df_sir[data_series],\n",
    "                                    name = labels[index],\n",
    "                                    line = dict(color = colors[index],\n",
    "                                               width = line_size[index]),\n",
    "                                    connectgaps = True))\n",
    "    xaxis = dict( title = 'Date', \n",
    "                 showline = True,\n",
    "                 showgrid = True,\n",
    "                 showticklabels = True,\n",
    "                 linecolor = 'rgb(204, 204, 204)',\n",
    "                 linewidth = 2,\n",
    "                 ticks = 'outside',\n",
    "                 tickangle = 280,\n",
    "                 tickfont = dict(family = 'Arial',size = 12, color = 'rgb(82,82,82)'))\n",
    "    yaxis = dict(title = \"Case Count\",\n",
    "                    showline = True,\n",
    "                     showgrid = True,\n",
    "                     showticklabels = True,\n",
    "                     linecolor = 'rgb(204, 204, 204)',\n",
    "                     linewidth = 2)\n",
    "    if yaxis_type != '':\n",
    "        yaxis['type'] = yaxis_type\n",
    "        \n",
    "    if yaxis_title:\n",
    "        yaxis['title'] = yaxis_title\n",
    "\n",
    "    fig.update_layout(xaxis = xaxis,\n",
    "                     yaxis = yaxis,\n",
    "                     autosize = True,\n",
    "                     margin = dict(autoexpand=True,l=100,r=20,t=110),\n",
    "                     showlegend = True\n",
    "                     )\n",
    "    annotations = []\n",
    "    #Title\n",
    "    annotations.append(dict(xref='paper',yref='paper',x=0.0,y=1.05,xanchor='left',yanchor='bottom',\n",
    "                           text = title,\n",
    "                           font=dict(family = 'Arial',size = 16, color = 'rgb(37,37,37)'),showarrow=False))\n",
    "    fig.update_layout(annotations=annotations, plot_bgcolor='rgba(0,0,0,0)')\n",
    "    \n",
    "    return fig"
   ]
  },
  {
   "cell_type": "markdown",
   "metadata": {},
   "source": [
    "###### For Chart 6 : SIR Model -- Covid-19 Transmission -- Prediction -- INDIA"
   ]
  },
  {
   "cell_type": "code",
   "execution_count": null,
   "metadata": {},
   "outputs": [],
   "source": [
    "fig_6 = plot_sir_prediction(title = 'SIR Model -- Covid-19 Transmission -- Prediction -- INDIA', df_sir = india_sir)\n",
    "fig_6.show()"
   ]
  },
  {
   "cell_type": "code",
   "execution_count": null,
   "metadata": {},
   "outputs": [],
   "source": []
  }
 ],
 "metadata": {
  "kernelspec": {
   "display_name": "Python 3",
   "language": "python",
   "name": "python3"
  },
  "language_info": {
   "codemirror_mode": {
    "name": "ipython",
    "version": 3
   },
   "file_extension": ".py",
   "mimetype": "text/x-python",
   "name": "python",
   "nbconvert_exporter": "python",
   "pygments_lexer": "ipython3",
   "version": "3.7.6"
  }
 },
 "nbformat": 4,
 "nbformat_minor": 2
}
